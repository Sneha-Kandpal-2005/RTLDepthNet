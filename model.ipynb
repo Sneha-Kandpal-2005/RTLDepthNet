{
 "cells": [
  {
   "cell_type": "markdown",
   "id": "b95907bf",
   "metadata": {},
   "source": [
    "# Loading and Analyzing Dataset"
   ]
  },
  {
   "cell_type": "code",
   "execution_count": 2,
   "id": "62cdfed8",
   "metadata": {},
   "outputs": [
    {
     "data": {
      "text/html": [
       "<div>\n",
       "<style scoped>\n",
       "    .dataframe tbody tr th:only-of-type {\n",
       "        vertical-align: middle;\n",
       "    }\n",
       "\n",
       "    .dataframe tbody tr th {\n",
       "        vertical-align: top;\n",
       "    }\n",
       "\n",
       "    .dataframe thead th {\n",
       "        text-align: right;\n",
       "    }\n",
       "</style>\n",
       "<table border=\"1\" class=\"dataframe\">\n",
       "  <thead>\n",
       "    <tr style=\"text-align: right;\">\n",
       "      <th></th>\n",
       "      <th>num_wires</th>\n",
       "      <th>num_cells</th>\n",
       "      <th>num_memories</th>\n",
       "      <th>has_warnings</th>\n",
       "      <th>has_errors</th>\n",
       "      <th>RTL Code</th>\n",
       "      <th>num_lines</th>\n",
       "      <th>sample_id</th>\n",
       "    </tr>\n",
       "  </thead>\n",
       "  <tbody>\n",
       "    <tr>\n",
       "      <th>0</th>\n",
       "      <td>317</td>\n",
       "      <td>434</td>\n",
       "      <td>0</td>\n",
       "      <td>True</td>\n",
       "      <td>False</td>\n",
       "      <td>module axi_protocol_converter_v2_1_b2s_simple_...</td>\n",
       "      <td>73</td>\n",
       "      <td>0</td>\n",
       "    </tr>\n",
       "    <tr>\n",
       "      <th>1</th>\n",
       "      <td>252</td>\n",
       "      <td>365</td>\n",
       "      <td>0</td>\n",
       "      <td>False</td>\n",
       "      <td>False</td>\n",
       "      <td>module altera_avalon_sc_fifo\\n#(\\n    // -----...</td>\n",
       "      <td>895</td>\n",
       "      <td>4</td>\n",
       "    </tr>\n",
       "    <tr>\n",
       "      <th>2</th>\n",
       "      <td>32</td>\n",
       "      <td>8</td>\n",
       "      <td>0</td>\n",
       "      <td>False</td>\n",
       "      <td>False</td>\n",
       "      <td>module axi_protocol_converter_v2_1_r_axi3_conv...</td>\n",
       "      <td>153</td>\n",
       "      <td>5</td>\n",
       "    </tr>\n",
       "    <tr>\n",
       "      <th>3</th>\n",
       "      <td>34</td>\n",
       "      <td>64</td>\n",
       "      <td>0</td>\n",
       "      <td>False</td>\n",
       "      <td>False</td>\n",
       "      <td>module e0 (x, y);\\n\\n\\tinput [31:0] x;\\n\\toutp...</td>\n",
       "      <td>8</td>\n",
       "      <td>6</td>\n",
       "    </tr>\n",
       "    <tr>\n",
       "      <th>4</th>\n",
       "      <td>34</td>\n",
       "      <td>64</td>\n",
       "      <td>0</td>\n",
       "      <td>False</td>\n",
       "      <td>False</td>\n",
       "      <td>module e1 (x, y);\\n\\n\\tinput [31:0] x;\\n\\toutp...</td>\n",
       "      <td>8</td>\n",
       "      <td>7</td>\n",
       "    </tr>\n",
       "  </tbody>\n",
       "</table>\n",
       "</div>"
      ],
      "text/plain": [
       "   num_wires  num_cells  num_memories  has_warnings  has_errors  \\\n",
       "0        317        434             0          True       False   \n",
       "1        252        365             0         False       False   \n",
       "2         32          8             0         False       False   \n",
       "3         34         64             0         False       False   \n",
       "4         34         64             0         False       False   \n",
       "\n",
       "                                            RTL Code  num_lines  sample_id  \n",
       "0  module axi_protocol_converter_v2_1_b2s_simple_...         73          0  \n",
       "1  module altera_avalon_sc_fifo\\n#(\\n    // -----...        895          4  \n",
       "2  module axi_protocol_converter_v2_1_r_axi3_conv...        153          5  \n",
       "3  module e0 (x, y);\\n\\n\\tinput [31:0] x;\\n\\toutp...          8          6  \n",
       "4  module e1 (x, y);\\n\\n\\tinput [31:0] x;\\n\\toutp...          8          7  "
      ]
     },
     "execution_count": 2,
     "metadata": {},
     "output_type": "execute_result"
    }
   ],
   "source": [
    "import pandas as pd\n",
    "df=pd.read_csv(\"RTL Analysis.csv\")\n",
    "df.head()"
   ]
  },
  {
   "cell_type": "code",
   "execution_count": 3,
   "id": "8efdf76f",
   "metadata": {},
   "outputs": [
    {
     "data": {
      "text/html": [
       "<div>\n",
       "<style scoped>\n",
       "    .dataframe tbody tr th:only-of-type {\n",
       "        vertical-align: middle;\n",
       "    }\n",
       "\n",
       "    .dataframe tbody tr th {\n",
       "        vertical-align: top;\n",
       "    }\n",
       "\n",
       "    .dataframe thead th {\n",
       "        text-align: right;\n",
       "    }\n",
       "</style>\n",
       "<table border=\"1\" class=\"dataframe\">\n",
       "  <thead>\n",
       "    <tr style=\"text-align: right;\">\n",
       "      <th></th>\n",
       "      <th>num_wires</th>\n",
       "      <th>num_cells</th>\n",
       "      <th>num_memories</th>\n",
       "      <th>num_lines</th>\n",
       "      <th>sample_id</th>\n",
       "    </tr>\n",
       "  </thead>\n",
       "  <tbody>\n",
       "    <tr>\n",
       "      <th>count</th>\n",
       "      <td>177.000000</td>\n",
       "      <td>177.000000</td>\n",
       "      <td>177.0</td>\n",
       "      <td>177.000000</td>\n",
       "      <td>177.000000</td>\n",
       "    </tr>\n",
       "    <tr>\n",
       "      <th>mean</th>\n",
       "      <td>600.033898</td>\n",
       "      <td>783.672316</td>\n",
       "      <td>0.0</td>\n",
       "      <td>94.237288</td>\n",
       "      <td>485.090395</td>\n",
       "    </tr>\n",
       "    <tr>\n",
       "      <th>std</th>\n",
       "      <td>2196.051824</td>\n",
       "      <td>2816.281209</td>\n",
       "      <td>0.0</td>\n",
       "      <td>119.453967</td>\n",
       "      <td>310.660006</td>\n",
       "    </tr>\n",
       "    <tr>\n",
       "      <th>min</th>\n",
       "      <td>2.000000</td>\n",
       "      <td>1.000000</td>\n",
       "      <td>0.0</td>\n",
       "      <td>7.000000</td>\n",
       "      <td>0.000000</td>\n",
       "    </tr>\n",
       "    <tr>\n",
       "      <th>25%</th>\n",
       "      <td>8.000000</td>\n",
       "      <td>3.000000</td>\n",
       "      <td>0.0</td>\n",
       "      <td>22.000000</td>\n",
       "      <td>155.000000</td>\n",
       "    </tr>\n",
       "    <tr>\n",
       "      <th>50%</th>\n",
       "      <td>43.000000</td>\n",
       "      <td>61.000000</td>\n",
       "      <td>0.0</td>\n",
       "      <td>55.000000</td>\n",
       "      <td>500.000000</td>\n",
       "    </tr>\n",
       "    <tr>\n",
       "      <th>75%</th>\n",
       "      <td>240.000000</td>\n",
       "      <td>331.000000</td>\n",
       "      <td>0.0</td>\n",
       "      <td>118.000000</td>\n",
       "      <td>755.000000</td>\n",
       "    </tr>\n",
       "    <tr>\n",
       "      <th>max</th>\n",
       "      <td>19541.000000</td>\n",
       "      <td>20385.000000</td>\n",
       "      <td>0.0</td>\n",
       "      <td>895.000000</td>\n",
       "      <td>997.000000</td>\n",
       "    </tr>\n",
       "  </tbody>\n",
       "</table>\n",
       "</div>"
      ],
      "text/plain": [
       "          num_wires     num_cells  num_memories   num_lines   sample_id\n",
       "count    177.000000    177.000000         177.0  177.000000  177.000000\n",
       "mean     600.033898    783.672316           0.0   94.237288  485.090395\n",
       "std     2196.051824   2816.281209           0.0  119.453967  310.660006\n",
       "min        2.000000      1.000000           0.0    7.000000    0.000000\n",
       "25%        8.000000      3.000000           0.0   22.000000  155.000000\n",
       "50%       43.000000     61.000000           0.0   55.000000  500.000000\n",
       "75%      240.000000    331.000000           0.0  118.000000  755.000000\n",
       "max    19541.000000  20385.000000           0.0  895.000000  997.000000"
      ]
     },
     "execution_count": 3,
     "metadata": {},
     "output_type": "execute_result"
    }
   ],
   "source": [
    "df.describe()"
   ]
  },
  {
   "cell_type": "markdown",
   "id": "b087f985",
   "metadata": {},
   "source": [
    "# Feature Engineering\n",
    "\n",
    "Addition of meaningful features like ports, assigns, always_blocks, operators etc. from the RTL Code"
   ]
  },
  {
   "cell_type": "code",
   "execution_count": 76,
   "id": "c62a1222",
   "metadata": {},
   "outputs": [
    {
     "data": {
      "text/html": [
       "<div>\n",
       "<style scoped>\n",
       "    .dataframe tbody tr th:only-of-type {\n",
       "        vertical-align: middle;\n",
       "    }\n",
       "\n",
       "    .dataframe tbody tr th {\n",
       "        vertical-align: top;\n",
       "    }\n",
       "\n",
       "    .dataframe thead th {\n",
       "        text-align: right;\n",
       "    }\n",
       "</style>\n",
       "<table border=\"1\" class=\"dataframe\">\n",
       "  <thead>\n",
       "    <tr style=\"text-align: right;\">\n",
       "      <th></th>\n",
       "      <th>num_wires</th>\n",
       "      <th>num_lines</th>\n",
       "      <th>num_ports</th>\n",
       "      <th>num_assigns</th>\n",
       "      <th>num_always_blocks</th>\n",
       "      <th>num_operators</th>\n",
       "    </tr>\n",
       "  </thead>\n",
       "  <tbody>\n",
       "    <tr>\n",
       "      <th>count</th>\n",
       "      <td>177.000000</td>\n",
       "      <td>177.000000</td>\n",
       "      <td>177.000000</td>\n",
       "      <td>177.000000</td>\n",
       "      <td>177.000000</td>\n",
       "      <td>177.000000</td>\n",
       "    </tr>\n",
       "    <tr>\n",
       "      <th>mean</th>\n",
       "      <td>600.033898</td>\n",
       "      <td>94.237288</td>\n",
       "      <td>8.158192</td>\n",
       "      <td>4.502825</td>\n",
       "      <td>2.389831</td>\n",
       "      <td>25.717514</td>\n",
       "    </tr>\n",
       "    <tr>\n",
       "      <th>std</th>\n",
       "      <td>2196.051824</td>\n",
       "      <td>119.453967</td>\n",
       "      <td>7.413735</td>\n",
       "      <td>15.414030</td>\n",
       "      <td>3.825826</td>\n",
       "      <td>133.893357</td>\n",
       "    </tr>\n",
       "    <tr>\n",
       "      <th>min</th>\n",
       "      <td>2.000000</td>\n",
       "      <td>7.000000</td>\n",
       "      <td>2.000000</td>\n",
       "      <td>0.000000</td>\n",
       "      <td>0.000000</td>\n",
       "      <td>0.000000</td>\n",
       "    </tr>\n",
       "    <tr>\n",
       "      <th>25%</th>\n",
       "      <td>8.000000</td>\n",
       "      <td>22.000000</td>\n",
       "      <td>3.000000</td>\n",
       "      <td>0.000000</td>\n",
       "      <td>1.000000</td>\n",
       "      <td>0.000000</td>\n",
       "    </tr>\n",
       "    <tr>\n",
       "      <th>50%</th>\n",
       "      <td>43.000000</td>\n",
       "      <td>55.000000</td>\n",
       "      <td>6.000000</td>\n",
       "      <td>1.000000</td>\n",
       "      <td>1.000000</td>\n",
       "      <td>1.000000</td>\n",
       "    </tr>\n",
       "    <tr>\n",
       "      <th>75%</th>\n",
       "      <td>240.000000</td>\n",
       "      <td>118.000000</td>\n",
       "      <td>10.000000</td>\n",
       "      <td>4.000000</td>\n",
       "      <td>3.000000</td>\n",
       "      <td>4.000000</td>\n",
       "    </tr>\n",
       "    <tr>\n",
       "      <th>max</th>\n",
       "      <td>19541.000000</td>\n",
       "      <td>895.000000</td>\n",
       "      <td>47.000000</td>\n",
       "      <td>189.000000</td>\n",
       "      <td>30.000000</td>\n",
       "      <td>1253.000000</td>\n",
       "    </tr>\n",
       "  </tbody>\n",
       "</table>\n",
       "</div>"
      ],
      "text/plain": [
       "          num_wires   num_lines   num_ports  num_assigns  num_always_blocks  \\\n",
       "count    177.000000  177.000000  177.000000   177.000000         177.000000   \n",
       "mean     600.033898   94.237288    8.158192     4.502825           2.389831   \n",
       "std     2196.051824  119.453967    7.413735    15.414030           3.825826   \n",
       "min        2.000000    7.000000    2.000000     0.000000           0.000000   \n",
       "25%        8.000000   22.000000    3.000000     0.000000           1.000000   \n",
       "50%       43.000000   55.000000    6.000000     1.000000           1.000000   \n",
       "75%      240.000000  118.000000   10.000000     4.000000           3.000000   \n",
       "max    19541.000000  895.000000   47.000000   189.000000          30.000000   \n",
       "\n",
       "       num_operators  \n",
       "count     177.000000  \n",
       "mean       25.717514  \n",
       "std       133.893357  \n",
       "min         0.000000  \n",
       "25%         0.000000  \n",
       "50%         1.000000  \n",
       "75%         4.000000  \n",
       "max      1253.000000  "
      ]
     },
     "execution_count": 76,
     "metadata": {},
     "output_type": "execute_result"
    }
   ],
   "source": [
    "import re\n",
    "\n",
    "def extract_rtl_features(rtl_code):\n",
    "    \"\"\"Extract meaningful features from RTL code.\"\"\"\n",
    "    return {\n",
    "        'num_ports': len(re.findall(r'\\binput\\b', rtl_code)) + len(re.findall(r'\\boutput\\b', rtl_code)),\n",
    "        'num_assigns': len(re.findall(r'\\bassign\\b', rtl_code)),\n",
    "        'num_always_blocks': len(re.findall(r'\\balways\\b', rtl_code)),\n",
    "        'num_operators': rtl_code.count('+') + rtl_code.count('*')\n",
    "    }\n",
    "\n",
    "# Apply feature extraction to RTL Code\n",
    "rtl_features = df['RTL Code'].apply(extract_rtl_features).apply(pd.Series)\n",
    "\n",
    "# Combine extracted features with existing numerical features\n",
    "X = pd.concat([df[['num_wires', 'has_warnings', 'has_errors', 'num_lines']], rtl_features], axis=1)\n",
    "y = df['num_cells']\n",
    "X.describe()"
   ]
  },
  {
   "cell_type": "markdown",
   "id": "5a2cbb73",
   "metadata": {},
   "source": [
    "# Testing with a random forest regressor"
   ]
  },
  {
   "cell_type": "code",
   "execution_count": 77,
   "id": "2b08dba1",
   "metadata": {},
   "outputs": [
    {
     "name": "stdout",
     "output_type": "stream",
     "text": [
      "Random Forest MAE: 455.197175925926\n"
     ]
    }
   ],
   "source": [
    "from sklearn.ensemble import RandomForestRegressor\n",
    "from sklearn.model_selection import train_test_split\n",
    "from sklearn.metrics import mean_absolute_error\n",
    "\n",
    "# Split data into training and testing sets\n",
    "X_train, X_test, y_train, y_test = train_test_split(X, y, test_size=0.2, random_state=42)\n",
    "\n",
    "# Train Random Forest Regressor\n",
    "rf_model = RandomForestRegressor(n_estimators=100, random_state=42)\n",
    "rf_model.fit(X_train, y_train)\n",
    "\n",
    "# Make predictions and evaluate\n",
    "y_pred_rf = rf_model.predict(X_test)\n",
    "mae_rf = mean_absolute_error(y_test, y_pred_rf)\n",
    "print(\"Random Forest MAE:\", mae_rf)\n"
   ]
  },
  {
   "cell_type": "markdown",
   "id": "8d46b886",
   "metadata": {},
   "source": [
    "# Grid Search performed to  tune hyperparameters"
   ]
  },
  {
   "cell_type": "code",
   "execution_count": null,
   "id": "e3e9b950",
   "metadata": {},
   "outputs": [],
   "source": [
    "from sklearn.model_selection import GridSearchCV\n",
    "\n",
    "param_grid = {\n",
    "    'n_estimators': [50, 100, 200],\n",
    "    'max_depth': [None, 10, 20],\n",
    "    'min_samples_split': [2, 5],\n",
    "    'min_samples_leaf': [1, 2]\n",
    "}\n",
    "\n",
    "grid_search = GridSearchCV(RandomForestRegressor(random_state=42), param_grid, cv=3)\n",
    "grid_search.fit(X_train, y_train)\n",
    "\n",
    "print(\"Best Parameters:\", grid_search.best_params_)\n",
    "best_rf_model = grid_search.best_estimator_\n"
   ]
  },
  {
   "cell_type": "code",
   "execution_count": 78,
   "id": "75c9247e",
   "metadata": {},
   "outputs": [
    {
     "name": "stdout",
     "output_type": "stream",
     "text": [
      "Random Forest MAE: 353.997062253796\n"
     ]
    }
   ],
   "source": [
    "from sklearn.ensemble import RandomForestRegressor\n",
    "from sklearn.model_selection import train_test_split\n",
    "from sklearn.metrics import mean_absolute_error\n",
    "\n",
    "# Split data into training and testing sets\n",
    "X_train, X_test, y_train, y_test = train_test_split(X, y, test_size=0.2, random_state=42)\n",
    "\n",
    "# Train Random Forest Regressor\n",
    "rf_model = RandomForestRegressor(n_estimators=1000, random_state=42, max_depth=20, min_samples_leaf=2,min_samples_split=5)\n",
    "rf_model.fit(X_train, y_train)\n",
    "\n",
    "# Make predictions and evaluate\n",
    "y_pred_rf = rf_model.predict(X_test)\n",
    "mae_rf = mean_absolute_error(y_test, y_pred_rf)\n",
    "print(\"Random Forest MAE:\", mae_rf)\n"
   ]
  },
  {
   "cell_type": "code",
   "execution_count": 47,
   "id": "43806858",
   "metadata": {},
   "outputs": [
    {
     "name": "stdout",
     "output_type": "stream",
     "text": [
      "Optimized MAE: 343.75448205989363\n",
      "144.1455159733894\n"
     ]
    }
   ],
   "source": [
    "import pandas as pd\n",
    "from sklearn.ensemble import RandomForestRegressor\n",
    "from sklearn.model_selection import train_test_split\n",
    "from sklearn.metrics import mean_absolute_error\n",
    "\n",
    "# Load dataset and extract features\n",
    "df = pd.read_csv(\"RTL Analysis.csv\")\n",
    "rtl_features = df['RTL Code'].apply(extract_rtl_features).apply(pd.Series)\n",
    "X = pd.concat([df[['num_wires', 'num_memories', 'has_warnings', 'has_errors', 'num_lines']], rtl_features], axis=1)\n",
    "y = df['num_cells']\n",
    "\n",
    "# Split data\n",
    "X_train, X_test, y_train, y_test = train_test_split(X, y, test_size=0.2, random_state=42)\n",
    "\n",
    "# Train optimized model\n",
    "best_model = RandomForestRegressor(\n",
    "    n_estimators=300,\n",
    "    max_depth=10,\n",
    "    min_samples_split=5,\n",
    "    min_samples_leaf=2,\n",
    "    random_state=42\n",
    ")\n",
    "best_model.fit(X_train, y_train)\n",
    "\n",
    "# Evaluate\n",
    "y_pred = best_model.predict(X_test)\n",
    "mae = mean_absolute_error(y_test, y_pred)\n",
    "print(f\"Optimized MAE: {mae}\")\n",
    "y_pred_train=best_model.predict(X_train)\n",
    "mae2=mean_absolute_error(y_pred_train,y_train)\n",
    "print(mae2)"
   ]
  },
  {
   "cell_type": "markdown",
   "id": "9b6bbe04",
   "metadata": {},
   "source": [
    "# Performed Using XGBRegressor"
   ]
  },
  {
   "cell_type": "code",
   "execution_count": 65,
   "id": "34293e2d",
   "metadata": {},
   "outputs": [
    {
     "name": "stdout",
     "output_type": "stream",
     "text": [
      "R² Score: 0.7059230097605793\n"
     ]
    }
   ],
   "source": [
    "from xgboost import XGBRegressor\n",
    "\n",
    "model = XGBRegressor(n_estimators=200, learning_rate=0.1)\n",
    "model.fit(X_train, y_train)\n",
    "from sklearn.metrics import r2_score\n",
    "\n",
    "y_pred = model.predict(X_test)\n",
    "print(\"R² Score:\", r2_score(y_test, y_pred))"
   ]
  },
  {
   "cell_type": "code",
   "execution_count": 66,
   "id": "92b59378",
   "metadata": {},
   "outputs": [
    {
     "name": "stdout",
     "output_type": "stream",
     "text": [
      "289.979911448227\n"
     ]
    }
   ],
   "source": [
    "mae=mean_absolute_error(y_pred,y_test)\n",
    "print(mae)"
   ]
  },
  {
   "cell_type": "code",
   "execution_count": 63,
   "id": "b8ec38d2",
   "metadata": {},
   "outputs": [
    {
     "name": "stdout",
     "output_type": "stream",
     "text": [
      "Best Parameters: {'colsample_bytree': 1.0, 'learning_rate': 0.05, 'max_depth': 3, 'n_estimators': 200, 'reg_alpha': 0.1, 'reg_lambda': 1, 'subsample': 0.8}\n"
     ]
    }
   ],
   "source": [
    "from xgboost import XGBRegressor\n",
    "from sklearn.model_selection import GridSearchCV\n",
    "\n",
    "# Define the parameter grid\n",
    "param_grid = {\n",
    "    'learning_rate': [0.01, 0.05, 0.1],\n",
    "    'max_depth': [3, 5, 7],\n",
    "    'n_estimators': [100, 200, 300],\n",
    "    'subsample': [0.6, 0.8, 1.0],\n",
    "    'colsample_bytree': [0.6, 0.8, 1.0],\n",
    "    'reg_alpha': [0, 0.1, 1],\n",
    "    'reg_lambda': [0, 0.1, 1]\n",
    "}\n",
    "\n",
    "# Initialize the model\n",
    "model = XGBRegressor(random_state=42)\n",
    "\n",
    "# Set up grid search\n",
    "grid_search = GridSearchCV(\n",
    "    estimator=model,\n",
    "    param_grid=param_grid,\n",
    "    scoring='neg_mean_absolute_error',  # Use MAE or R²\n",
    "    cv=5,  # 5-fold cross-validation\n",
    "    n_jobs=-1  # Use all CPU cores\n",
    ")\n",
    "\n",
    "# Run grid search on training data\n",
    "grid_search.fit(X_train, y_train)\n",
    "\n",
    "# Best parameters and model\n",
    "print(\"Best Parameters:\", grid_search.best_params_)\n",
    "best_model = grid_search.best_estimator_\n"
   ]
  },
  {
   "cell_type": "code",
   "execution_count": 64,
   "id": "b4e1fcd1",
   "metadata": {},
   "outputs": [
    {
     "name": "stdout",
     "output_type": "stream",
     "text": [
      "Tuned MAE: 291.8251991007063\n",
      "Tuned R²: 0.7062976831094305\n"
     ]
    }
   ],
   "source": [
    "# Predict on test set\n",
    "y_pred = best_model.predict(X_test)\n",
    "\n",
    "# Evaluate\n",
    "mae = mean_absolute_error(y_test, y_pred)\n",
    "r2 = r2_score(y_test, y_pred)\n",
    "print(f\"Tuned MAE: {mae}\")\n",
    "print(f\"Tuned R²: {r2}\")\n"
   ]
  },
  {
   "cell_type": "markdown",
   "id": "f25be4e6",
   "metadata": {},
   "source": [
    "# Significant Improvement in accuracy scores\n",
    "\n",
    "Saving the model as a joblib and testing it by loading it"
   ]
  },
  {
   "cell_type": "code",
   "execution_count": 70,
   "id": "147aef09",
   "metadata": {},
   "outputs": [
    {
     "data": {
      "text/plain": [
       "['timing_analysis_model.joblib']"
      ]
     },
     "execution_count": 70,
     "metadata": {},
     "output_type": "execute_result"
    }
   ],
   "source": [
    "from joblib import dump\n",
    "\n",
    "\n",
    "dump(best_model, \"timing_analysis_model.joblib\")\n"
   ]
  },
  {
   "cell_type": "code",
   "execution_count": 72,
   "id": "fd8782d1",
   "metadata": {},
   "outputs": [
    {
     "data": {
      "text/plain": [
       "array([7.87945604e+00, 7.87945604e+00, 1.89367266e+04, 1.12430935e+01,\n",
       "       3.58062836e+02, 7.87945604e+00, 1.30532562e+02, 4.58745537e+01,\n",
       "       8.96550751e+00, 1.75657715e+02, 1.62709747e+02, 8.96550751e+00,\n",
       "       1.89649963e+02, 8.48980713e+01, 7.87945604e+00, 7.19091125e+02,\n",
       "       4.15757141e+02, 1.00846906e+03, 8.13805618e+01, 4.70160751e+01,\n",
       "       3.84978363e+02, 2.60539276e+02, 1.06296904e+04, 6.29536926e+02,\n",
       "       8.96550751e+00, 7.87945604e+00, 4.86833649e+01, 3.70738037e+02,\n",
       "       8.28069992e+01, 8.23051682e+01, 1.51560841e+01, 7.87945604e+00,\n",
       "       1.04796623e+02, 5.24552956e+01, 8.56552277e+01, 1.90749847e+02],\n",
       "      dtype=float32)"
      ]
     },
     "execution_count": 72,
     "metadata": {},
     "output_type": "execute_result"
    }
   ],
   "source": [
    "from joblib import load\n",
    "\n",
    "\n",
    "loaded_model = load(\"timing_analysis_model.joblib\")\n",
    "\n",
    "\n",
    "y_pred = loaded_model.predict(X_test)\n",
    "y_pred"
   ]
  },
  {
   "cell_type": "code",
   "execution_count": null,
   "id": "6971f818",
   "metadata": {},
   "outputs": [],
   "source": []
  }
 ],
 "metadata": {
  "kernelspec": {
   "display_name": "Python 3 (ipykernel)",
   "language": "python",
   "name": "python3"
  },
  "language_info": {
   "codemirror_mode": {
    "name": "ipython",
    "version": 3
   },
   "file_extension": ".py",
   "mimetype": "text/x-python",
   "name": "python",
   "nbconvert_exporter": "python",
   "pygments_lexer": "ipython3",
   "version": "3.11.4"
  }
 },
 "nbformat": 4,
 "nbformat_minor": 5
}
