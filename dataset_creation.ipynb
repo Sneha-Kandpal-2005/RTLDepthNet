{
 "cells": [
  {
   "cell_type": "markdown",
   "id": "4bf5e0fe",
   "metadata": {},
   "source": [
    "# Installing Libraries"
   ]
  },
  {
   "cell_type": "code",
   "execution_count": null,
   "id": "05ad8fc7",
   "metadata": {},
   "outputs": [],
   "source": [
    "!pip install datasets pyverilog pyrtl xgboost matplotlib seaborn scikit-learn\n",
    "!sudo apt-get install yosys"
   ]
  },
  {
   "cell_type": "code",
   "execution_count": 2,
   "id": "ecbe4aa3",
   "metadata": {},
   "outputs": [],
   "source": [
    "from datasets import load_dataset"
   ]
  },
  {
   "cell_type": "markdown",
   "id": "a3582069",
   "metadata": {},
   "source": [
    "# Loading the Dataset"
   ]
  },
  {
   "cell_type": "code",
   "execution_count": 3,
   "id": "e4eb25c2",
   "metadata": {},
   "outputs": [],
   "source": [
    "dataset = load_dataset('emilgoh/verilog-dataset-v2', split='train')\n",
    "dataset = dataset.take(1000)"
   ]
  },
  {
   "cell_type": "code",
   "execution_count": 4,
   "id": "4445e445",
   "metadata": {},
   "outputs": [],
   "source": [
    "import subprocess\n",
    "import re\n",
    "import pandas as pd\n",
    "from tqdm import tqdm\n",
    "from collections import defaultdict"
   ]
  },
  {
   "cell_type": "markdown",
   "id": "02b5d5df",
   "metadata": {},
   "source": [
    "# Processing Block\n",
    "This is done using the YoSys Open Synthesis Suite to extract structural synthesis details for RTL Modules in Dataset to extract features for our Dataset "
   ]
  },
  {
   "cell_type": "code",
   "execution_count": 35,
   "id": "5d70006a",
   "metadata": {},
   "outputs": [],
   "source": [
    "import subprocess\n",
    "import re\n",
    "import pandas as pd\n",
    "from tqdm import tqdm\n",
    "\n",
    "def extract_top_module(rtl_code):\n",
    "    \"\"\"Extract the top module name from RTL code.\"\"\"\n",
    "    match = re.search(r'module\\s+(\\w+)', rtl_code)\n",
    "    return match.group(1) if match else None\n",
    "\n",
    "def get_logic_depth_1(rtl_code, yosys_path='C:\\\\yosys\\\\oss-cad-suite\\\\bin\\\\yosys.exe'):\n",
    "    \"\"\"Run synthesis and extract features using Yosys.\"\"\"\n",
    "    try:\n",
    "        # Extract top module name from RTL code\n",
    "        top_module = extract_top_module(rtl_code)\n",
    "        if not top_module:\n",
    "            raise ValueError(\"No module declaration found in RTL code\")\n",
    "\n",
    "        # Write RTL code to a temporary file\n",
    "        with open('temp_design.v', 'w', encoding='utf-8') as f:\n",
    "            f.write(rtl_code)\n",
    "\n",
    "        # Command to run environment.bat and Yosys\n",
    "        command = (\n",
    "            f'C:\\\\yosys\\\\oss-cad-suite\\\\environment.bat && '\n",
    "            f'{yosys_path} -p \"read_verilog temp_design.v; synth -top {top_module}; stat\"'\n",
    "        )\n",
    "\n",
    "        # Run the command\n",
    "        result = subprocess.run(\n",
    "            command,\n",
    "            capture_output=True,\n",
    "            text=True,\n",
    "            timeout=30,\n",
    "            shell=True\n",
    "        )\n",
    "\n",
    "        # Debugging\n",
    "        #print(\"Yosys Output:\", result.stdout)\n",
    "\n",
    "        # Extract features from Yosys output\n",
    "        features = {\n",
    "            'num_wires': int(re.search(r'Number of wires:\\s+(\\d+)', result.stdout).group(1)) \n",
    "                        if re.search(r'Number of wires:\\s+(\\d+)', result.stdout) else 0,\n",
    "            'num_cells': int(re.search(r'Number of cells:\\s+(\\d+)', result.stdout).group(1)) \n",
    "                        if re.search(r'Number of cells:\\s+(\\d+)', result.stdout) else 0,\n",
    "            'num_memories': int(re.search(r'Number of memories:\\s+(\\d+)', result.stdout).group(1)) \n",
    "                          if re.search(r'Number of memories:\\s+(\\d+)', result.stdout) else 0,\n",
    "            'has_warnings': \"Warning\" in result.stdout,\n",
    "            'has_errors': \"ERROR\" in result.stdout,\n",
    "            'RTL Code' : rtl_code\n",
    "        }\n",
    "        \n",
    "\n",
    "       \n",
    "\n",
    "        return features\n",
    "\n",
    "   \n",
    "    except Exception as e:\n",
    "        print(f\"Synthesis failed: {e}\")\n",
    "        return {}\n",
    "\n",
    "\n",
    "def create_dataset_1(dataset, sample_size=200, yosys_path='C:\\\\yosys\\\\oss-cad-suite\\\\bin\\\\yosys.exe'):\n",
    "    \"\"\"Create feature-label dataset from RTL samples (no sanitization).\"\"\"\n",
    "    data = []\n",
    "    for i, sample in enumerate(tqdm(dataset, desc=\"Processing\")):\n",
    "        if i >= sample_size:\n",
    "            break\n",
    "\n",
    "        # Extract raw RTL code without modification\n",
    "        rtl_code = sample.get('output', '')\n",
    "        if not rtl_code:\n",
    "            print(f\"Sample {i}: Empty RTL code\")\n",
    "            continue\n",
    "\n",
    "        try:\n",
    "            # Extract features directly from raw RTL code\n",
    "            features = get_logic_depth_1(rtl_code, yosys_path=yosys_path)\n",
    "            \n",
    "            # Only append if features are valid\n",
    "            if features.get('num_cells', 0) > 0: \n",
    "                data.append({\n",
    "                    **features,\n",
    "                    'num_lines': len(rtl_code.split('\\n')),\n",
    "                    'sample_id': i\n",
    "                })\n",
    "            else:\n",
    "                print(f\"Sample {i}: Invalid features (num_cells=0)\")\n",
    "\n",
    "        except Exception as e:\n",
    "            print(f\"Sample {i}: Error - {str(e)}\")\n",
    "\n",
    "    return pd.DataFrame(data)"
   ]
  },
  {
   "cell_type": "markdown",
   "id": "b1b1e30c",
   "metadata": {},
   "source": [
    "# Creating the required Dataset\n",
    "We are analyzing first 1000 samples of the given dataset and extracting details for the RTL Modules which can be synthesized to create the dataset we require"
   ]
  },
  {
   "cell_type": "code",
   "execution_count": 30,
   "id": "9d5801da",
   "metadata": {},
   "outputs": [
    {
     "name": "stderr",
     "output_type": "stream",
     "text": [
      "Processing:   0%|▏                                                                    | 3/1000 [00:00<03:11,  5.21it/s]"
     ]
    },
    {
     "name": "stdout",
     "output_type": "stream",
     "text": [
      "Sample 1: Invalid features (num_cells=0)\n",
      "Sample 2: Invalid features (num_cells=0)\n"
     ]
    },
    {
     "name": "stderr",
     "output_type": "stream",
     "text": [
      "\r\n",
      "Processing:   0%|▎                                                                    | 4/1000 [00:00<03:06,  5.33it/s]"
     ]
    },
    {
     "name": "stdout",
     "output_type": "stream",
     "text": [
      "Sample 3: Invalid features (num_cells=0)\n"
     ]
    },
    {
     "name": "stderr",
     "output_type": "stream",
     "text": [
      "Processing:   1%|▉                                                                   | 14/1000 [00:03<03:51,  4.27it/s]"
     ]
    },
    {
     "name": "stdout",
     "output_type": "stream",
     "text": [
      "Sample 12: Invalid features (num_cells=0)\n",
      "Sample 13: Invalid features (num_cells=0)\n"
     ]
    },
    {
     "name": "stderr",
     "output_type": "stream",
     "text": [
      "Processing:   2%|█                                                                   | 16/1000 [00:04<03:01,  5.42it/s]"
     ]
    },
    {
     "name": "stdout",
     "output_type": "stream",
     "text": [
      "Sample 14: Invalid features (num_cells=0)\n",
      "Sample 15: Invalid features (num_cells=0)\n"
     ]
    },
    {
     "name": "stderr",
     "output_type": "stream",
     "text": [
      "Processing:   2%|█▏                                                                  | 18/1000 [00:04<03:16,  5.01it/s]"
     ]
    },
    {
     "name": "stdout",
     "output_type": "stream",
     "text": [
      "Sample 17: Invalid features (num_cells=0)\n"
     ]
    },
    {
     "name": "stderr",
     "output_type": "stream",
     "text": [
      "Processing:   2%|█▍                                                                  | 21/1000 [00:05<03:28,  4.69it/s]"
     ]
    },
    {
     "name": "stdout",
     "output_type": "stream",
     "text": [
      "Sample 19: Invalid features (num_cells=0)\n",
      "Sample 20: Invalid features (num_cells=0)\n"
     ]
    },
    {
     "name": "stderr",
     "output_type": "stream",
     "text": [
      "Processing:   2%|█▌                                                                  | 23/1000 [00:06<04:46,  3.41it/s]"
     ]
    },
    {
     "name": "stdout",
     "output_type": "stream",
     "text": [
      "Synthesis failed: No module declaration found in RTL code\n",
      "Sample 23: Invalid features (num_cells=0)\n"
     ]
    },
    {
     "name": "stderr",
     "output_type": "stream",
     "text": [
      "\r\n",
      "Processing:   2%|█▋                                                                  | 25/1000 [00:06<03:31,  4.61it/s]"
     ]
    },
    {
     "name": "stdout",
     "output_type": "stream",
     "text": [
      "Sample 24: Invalid features (num_cells=0)\n"
     ]
    },
    {
     "name": "stderr",
     "output_type": "stream",
     "text": [
      "Processing:   3%|██                                                                  | 31/1000 [00:07<02:49,  5.72it/s]"
     ]
    },
    {
     "name": "stdout",
     "output_type": "stream",
     "text": [
      "Sample 29: Invalid features (num_cells=0)\n",
      "Sample 30: Invalid features (num_cells=0)\n"
     ]
    },
    {
     "name": "stderr",
     "output_type": "stream",
     "text": [
      "Processing:   3%|██▏                                                                 | 33/1000 [00:07<02:29,  6.48it/s]"
     ]
    },
    {
     "name": "stdout",
     "output_type": "stream",
     "text": [
      "Sample 31: Invalid features (num_cells=0)\n",
      "Sample 32: Invalid features (num_cells=0)\n"
     ]
    },
    {
     "name": "stderr",
     "output_type": "stream",
     "text": [
      "Processing:   4%|██▍                                                                 | 35/1000 [00:08<02:32,  6.33it/s]"
     ]
    },
    {
     "name": "stdout",
     "output_type": "stream",
     "text": [
      "Sample 33: Invalid features (num_cells=0)\n",
      "Sample 34: Invalid features (num_cells=0)\n"
     ]
    },
    {
     "name": "stderr",
     "output_type": "stream",
     "text": [
      "\r\n",
      "Processing:   4%|██▌                                                                 | 37/1000 [00:08<01:55,  8.32it/s]"
     ]
    },
    {
     "name": "stdout",
     "output_type": "stream",
     "text": [
      "Synthesis failed: No module declaration found in RTL code\n",
      "Sample 35: Invalid features (num_cells=0)\n",
      "Sample 36: Invalid features (num_cells=0)\n"
     ]
    },
    {
     "name": "stderr",
     "output_type": "stream",
     "text": [
      "\r\n",
      "Processing:   4%|██▌                                                                 | 38/1000 [00:08<02:15,  7.11it/s]"
     ]
    },
    {
     "name": "stdout",
     "output_type": "stream",
     "text": [
      "Sample 37: Invalid features (num_cells=0)\n"
     ]
    },
    {
     "name": "stderr",
     "output_type": "stream",
     "text": [
      "Processing:   4%|██▊                                                                 | 41/1000 [00:09<02:38,  6.05it/s]"
     ]
    },
    {
     "name": "stdout",
     "output_type": "stream",
     "text": [
      "Sample 39: Invalid features (num_cells=0)\n",
      "Sample 40: Invalid features (num_cells=0)\n"
     ]
    },
    {
     "name": "stderr",
     "output_type": "stream",
     "text": [
      "\r\n",
      "Processing:   4%|██▊                                                                 | 42/1000 [00:09<02:26,  6.55it/s]"
     ]
    },
    {
     "name": "stdout",
     "output_type": "stream",
     "text": [
      "Sample 41: Invalid features (num_cells=0)\n",
      "Sample 42: Invalid features (num_cells=0)\n"
     ]
    },
    {
     "name": "stderr",
     "output_type": "stream",
     "text": [
      "Processing:   4%|███                                                                 | 45/1000 [00:09<03:19,  4.78it/s]"
     ]
    },
    {
     "name": "stdout",
     "output_type": "stream",
     "text": [
      "Sample 44: Invalid features (num_cells=0)\n"
     ]
    },
    {
     "name": "stderr",
     "output_type": "stream",
     "text": [
      "Processing:   5%|███▏                                                                | 47/1000 [00:10<03:26,  4.61it/s]"
     ]
    },
    {
     "name": "stdout",
     "output_type": "stream",
     "text": [
      "Sample 45: Invalid features (num_cells=0)\n",
      "Sample 46: Invalid features (num_cells=0)\n"
     ]
    },
    {
     "name": "stderr",
     "output_type": "stream",
     "text": [
      "Processing:   5%|███▌                                                                | 53/1000 [00:11<02:46,  5.67it/s]"
     ]
    },
    {
     "name": "stdout",
     "output_type": "stream",
     "text": [
      "Sample 51: Invalid features (num_cells=0)\n",
      "Sample 52: Invalid features (num_cells=0)\n"
     ]
    },
    {
     "name": "stderr",
     "output_type": "stream",
     "text": [
      "Processing:   6%|███▋                                                                | 55/1000 [00:11<02:23,  6.58it/s]"
     ]
    },
    {
     "name": "stdout",
     "output_type": "stream",
     "text": [
      "Sample 53: Invalid features (num_cells=0)\n",
      "Sample 54: Invalid features (num_cells=0)\n"
     ]
    },
    {
     "name": "stderr",
     "output_type": "stream",
     "text": [
      "\r\n",
      "Processing:   6%|███▉                                                                | 57/1000 [00:12<02:18,  6.83it/s]"
     ]
    },
    {
     "name": "stdout",
     "output_type": "stream",
     "text": [
      "Sample 55: Invalid features (num_cells=0)\n",
      "Sample 56: Invalid features (num_cells=0)\n"
     ]
    },
    {
     "name": "stderr",
     "output_type": "stream",
     "text": [
      "\r\n",
      "Processing:   6%|████                                                                | 59/1000 [00:12<01:47,  8.71it/s]"
     ]
    },
    {
     "name": "stdout",
     "output_type": "stream",
     "text": [
      "Synthesis failed: No module declaration found in RTL code\n",
      "Sample 57: Invalid features (num_cells=0)\n",
      "Sample 58: Invalid features (num_cells=0)\n"
     ]
    },
    {
     "name": "stderr",
     "output_type": "stream",
     "text": [
      "Processing:   6%|████▏                                                               | 61/1000 [00:12<02:33,  6.13it/s]"
     ]
    },
    {
     "name": "stdout",
     "output_type": "stream",
     "text": [
      "Sample 60: Invalid features (num_cells=0)\n",
      "Sample 61: Invalid features (num_cells=0)\n"
     ]
    },
    {
     "name": "stderr",
     "output_type": "stream",
     "text": [
      "Processing:   6%|████▍                                                               | 65/1000 [00:13<02:42,  5.76it/s]"
     ]
    },
    {
     "name": "stdout",
     "output_type": "stream",
     "text": [
      "Sample 63: Invalid features (num_cells=0)\n",
      "Sample 64: Invalid features (num_cells=0)\n"
     ]
    },
    {
     "name": "stderr",
     "output_type": "stream",
     "text": [
      "Processing:   7%|████▌                                                               | 67/1000 [00:13<02:18,  6.72it/s]"
     ]
    },
    {
     "name": "stdout",
     "output_type": "stream",
     "text": [
      "Sample 65: Invalid features (num_cells=0)\n",
      "Sample 66: Invalid features (num_cells=0)\n",
      "Sample 67: Invalid features (num_cells=0)\n"
     ]
    },
    {
     "name": "stderr",
     "output_type": "stream",
     "text": [
      "Processing:   7%|████▊                                                               | 70/1000 [00:14<02:33,  6.07it/s]"
     ]
    },
    {
     "name": "stdout",
     "output_type": "stream",
     "text": [
      "Sample 69: Invalid features (num_cells=0)\n",
      "Synthesis failed: No module declaration found in RTL code\n",
      "Sample 70: Invalid features (num_cells=0)\n"
     ]
    },
    {
     "name": "stderr",
     "output_type": "stream",
     "text": [
      "Processing:   8%|█████▏                                                              | 76/1000 [00:15<02:59,  5.13it/s]"
     ]
    },
    {
     "name": "stdout",
     "output_type": "stream",
     "text": [
      "Sample 74: Invalid features (num_cells=0)\n",
      "Sample 75: Invalid features (num_cells=0)\n"
     ]
    },
    {
     "name": "stderr",
     "output_type": "stream",
     "text": [
      "Processing:   8%|█████▎                                                              | 78/1000 [00:15<02:35,  5.92it/s]"
     ]
    },
    {
     "name": "stdout",
     "output_type": "stream",
     "text": [
      "Sample 76: Invalid features (num_cells=0)\n"
     ]
    },
    {
     "name": "stderr",
     "output_type": "stream",
     "text": [
      "Processing:   8%|█████▍                                                              | 80/1000 [00:16<02:33,  5.98it/s]"
     ]
    },
    {
     "name": "stdout",
     "output_type": "stream",
     "text": [
      "Sample 78: Invalid features (num_cells=0)\n",
      "Sample 79: Invalid features (num_cells=0)\n"
     ]
    },
    {
     "name": "stderr",
     "output_type": "stream",
     "text": [
      "\r\n",
      "Processing:   8%|█████▌                                                              | 82/1000 [00:16<02:04,  7.36it/s]"
     ]
    },
    {
     "name": "stdout",
     "output_type": "stream",
     "text": [
      "Sample 80: Invalid features (num_cells=0)\n",
      "Sample 81: Invalid features (num_cells=0)\n"
     ]
    },
    {
     "name": "stderr",
     "output_type": "stream",
     "text": [
      "Processing:   9%|█████▊                                                              | 86/1000 [00:16<01:31,  9.98it/s]"
     ]
    },
    {
     "name": "stdout",
     "output_type": "stream",
     "text": [
      "Sample 82: Invalid features (num_cells=0)\n",
      "Sample 83: Invalid features (num_cells=0)\n",
      "Synthesis failed: No module declaration found in RTL code\n",
      "Sample 84: Invalid features (num_cells=0)\n",
      "Sample 85: Invalid features (num_cells=0)\n"
     ]
    },
    {
     "name": "stderr",
     "output_type": "stream",
     "text": [
      "\r\n",
      "Processing:   9%|█████▉                                                              | 87/1000 [00:16<01:31,  9.93it/s]"
     ]
    },
    {
     "name": "stdout",
     "output_type": "stream",
     "text": [
      "Sample 86: Invalid features (num_cells=0)\n",
      "Sample 87: Invalid features (num_cells=0)\n"
     ]
    },
    {
     "name": "stderr",
     "output_type": "stream",
     "text": [
      "Processing:   9%|██████▏                                                             | 91/1000 [00:17<01:46,  8.51it/s]"
     ]
    },
    {
     "name": "stdout",
     "output_type": "stream",
     "text": [
      "Sample 89: Invalid features (num_cells=0)\n",
      "Sample 90: Invalid features (num_cells=0)\n"
     ]
    },
    {
     "name": "stderr",
     "output_type": "stream",
     "text": [
      "\r\n",
      "Processing:   9%|██████▎                                                             | 92/1000 [00:17<02:02,  7.43it/s]"
     ]
    },
    {
     "name": "stdout",
     "output_type": "stream",
     "text": [
      "Sample 91: Invalid features (num_cells=0)\n",
      "Sample 92: Invalid features (num_cells=0)\n"
     ]
    },
    {
     "name": "stderr",
     "output_type": "stream",
     "text": [
      "Processing:  10%|██████▍                                                             | 95/1000 [00:18<02:20,  6.44it/s]"
     ]
    },
    {
     "name": "stdout",
     "output_type": "stream",
     "text": [
      "Sample 93: Invalid features (num_cells=0)\n",
      "Sample 94: Invalid features (num_cells=0)\n",
      "Sample 95: Invalid features (num_cells=0)\n"
     ]
    },
    {
     "name": "stderr",
     "output_type": "stream",
     "text": [
      "Processing:  10%|██████▋                                                             | 99/1000 [00:18<02:23,  6.30it/s]"
     ]
    },
    {
     "name": "stdout",
     "output_type": "stream",
     "text": [
      "Sample 97: Invalid features (num_cells=0)\n",
      "Sample 98: Invalid features (num_cells=0)\n"
     ]
    },
    {
     "name": "stderr",
     "output_type": "stream",
     "text": [
      "\r\n",
      "Processing:  10%|██████▋                                                            | 100/1000 [00:18<02:15,  6.66it/s]"
     ]
    },
    {
     "name": "stdout",
     "output_type": "stream",
     "text": [
      "Sample 99: Invalid features (num_cells=0)\n"
     ]
    },
    {
     "name": "stderr",
     "output_type": "stream",
     "text": [
      "Processing:  10%|██████▉                                                            | 104/1000 [00:20<03:27,  4.33it/s]"
     ]
    },
    {
     "name": "stdout",
     "output_type": "stream",
     "text": [
      "Sample 103: Invalid features (num_cells=0)\n"
     ]
    },
    {
     "name": "stderr",
     "output_type": "stream",
     "text": [
      "Processing:  11%|███████▎                                                           | 109/1000 [00:21<03:20,  4.45it/s]"
     ]
    },
    {
     "name": "stdout",
     "output_type": "stream",
     "text": [
      "Sample 107: Invalid features (num_cells=0)\n",
      "Sample 108: Invalid features (num_cells=0)\n",
      "Sample 109: Invalid features (num_cells=0)\n"
     ]
    },
    {
     "name": "stderr",
     "output_type": "stream",
     "text": [
      "\r\n",
      "Processing:  11%|███████▍                                                           | 111/1000 [00:21<03:23,  4.38it/s]"
     ]
    },
    {
     "name": "stdout",
     "output_type": "stream",
     "text": [
      "Sample 111: Invalid features (num_cells=0)\n"
     ]
    },
    {
     "name": "stderr",
     "output_type": "stream",
     "text": [
      "Processing:  12%|███████▊                                                           | 116/1000 [00:22<01:58,  7.48it/s]"
     ]
    },
    {
     "name": "stdout",
     "output_type": "stream",
     "text": [
      "Sample 112: Invalid features (num_cells=0)\n",
      "Sample 113: Invalid features (num_cells=0)\n",
      "Synthesis failed: No module declaration found in RTL code\n",
      "Sample 114: Invalid features (num_cells=0)\n",
      "Sample 115: Invalid features (num_cells=0)\n",
      "Sample 116: Invalid features (num_cells=0)\n"
     ]
    },
    {
     "name": "stderr",
     "output_type": "stream",
     "text": [
      "Processing:  12%|████████▏                                                          | 122/1000 [00:24<02:57,  4.94it/s]"
     ]
    },
    {
     "name": "stdout",
     "output_type": "stream",
     "text": [
      "Sample 120: Invalid features (num_cells=0)\n",
      "Sample 121: Invalid features (num_cells=0)\n"
     ]
    },
    {
     "name": "stderr",
     "output_type": "stream",
     "text": [
      "Processing:  12%|████████▎                                                          | 124/1000 [00:24<02:33,  5.72it/s]"
     ]
    },
    {
     "name": "stdout",
     "output_type": "stream",
     "text": [
      "Sample 122: Invalid features (num_cells=0)\n",
      "Sample 123: Invalid features (num_cells=0)\n"
     ]
    },
    {
     "name": "stderr",
     "output_type": "stream",
     "text": [
      "Processing:  13%|████████▌                                                          | 127/1000 [00:24<01:53,  7.69it/s]"
     ]
    },
    {
     "name": "stdout",
     "output_type": "stream",
     "text": [
      "Sample 124: Invalid features (num_cells=0)\n",
      "Sample 125: Invalid features (num_cells=0)\n",
      "Sample 126: Invalid features (num_cells=0)\n"
     ]
    },
    {
     "name": "stderr",
     "output_type": "stream",
     "text": [
      "Processing:  13%|████████▋                                                          | 129/1000 [00:24<01:46,  8.18it/s]"
     ]
    },
    {
     "name": "stdout",
     "output_type": "stream",
     "text": [
      "Sample 127: Invalid features (num_cells=0)\n",
      "Sample 128: Invalid features (num_cells=0)\n"
     ]
    },
    {
     "name": "stderr",
     "output_type": "stream",
     "text": [
      "Processing:  13%|████████▊                                                          | 131/1000 [00:25<01:58,  7.33it/s]"
     ]
    },
    {
     "name": "stdout",
     "output_type": "stream",
     "text": [
      "Sample 129: Invalid features (num_cells=0)\n",
      "Sample 130: Invalid features (num_cells=0)\n",
      "Sample 131: Invalid features (num_cells=0)\n"
     ]
    },
    {
     "name": "stderr",
     "output_type": "stream",
     "text": [
      "Processing:  14%|█████████                                                          | 136/1000 [00:26<02:23,  6.01it/s]"
     ]
    },
    {
     "name": "stdout",
     "output_type": "stream",
     "text": [
      "Sample 134: Invalid features (num_cells=0)\n",
      "Sample 135: Invalid features (num_cells=0)\n"
     ]
    },
    {
     "name": "stderr",
     "output_type": "stream",
     "text": [
      "Processing:  14%|█████████▏                                                         | 138/1000 [00:26<02:13,  6.48it/s]"
     ]
    },
    {
     "name": "stdout",
     "output_type": "stream",
     "text": [
      "Sample 136: Invalid features (num_cells=0)\n",
      "Sample 137: Invalid features (num_cells=0)\n",
      "Sample 138: Invalid features (num_cells=0)\n"
     ]
    },
    {
     "name": "stderr",
     "output_type": "stream",
     "text": [
      "Processing:  14%|█████████▍                                                         | 141/1000 [00:26<01:44,  8.26it/s]"
     ]
    },
    {
     "name": "stdout",
     "output_type": "stream",
     "text": [
      "Sample 139: Invalid features (num_cells=0)\n",
      "Sample 140: Invalid features (num_cells=0)\n"
     ]
    },
    {
     "name": "stderr",
     "output_type": "stream",
     "text": [
      "Processing:  14%|█████████▌                                                         | 143/1000 [00:27<02:07,  6.74it/s]"
     ]
    },
    {
     "name": "stdout",
     "output_type": "stream",
     "text": [
      "Sample 141: Invalid features (num_cells=0)\n",
      "Sample 142: Invalid features (num_cells=0)\n"
     ]
    },
    {
     "name": "stderr",
     "output_type": "stream",
     "text": [
      "\r\n",
      "Processing:  14%|█████████▋                                                         | 145/1000 [00:27<01:48,  7.86it/s]"
     ]
    },
    {
     "name": "stdout",
     "output_type": "stream",
     "text": [
      "Sample 143: Invalid features (num_cells=0)\n",
      "Sample 144: Invalid features (num_cells=0)\n",
      "Sample 145: Invalid features (num_cells=0)\n"
     ]
    },
    {
     "name": "stderr",
     "output_type": "stream",
     "text": [
      "Processing:  15%|█████████▉                                                         | 149/1000 [00:27<01:33,  9.07it/s]"
     ]
    },
    {
     "name": "stdout",
     "output_type": "stream",
     "text": [
      "Sample 146: Invalid features (num_cells=0)\n",
      "Sample 147: Invalid features (num_cells=0)\n",
      "Sample 148: Invalid features (num_cells=0)\n"
     ]
    },
    {
     "name": "stderr",
     "output_type": "stream",
     "text": [
      "\r\n",
      "Processing:  15%|██████████                                                         | 150/1000 [00:27<01:35,  8.88it/s]"
     ]
    },
    {
     "name": "stdout",
     "output_type": "stream",
     "text": [
      "Sample 149: Invalid features (num_cells=0)\n",
      "Synthesis failed: No module declaration found in RTL code\n",
      "Sample 150: Invalid features (num_cells=0)\n"
     ]
    },
    {
     "name": "stderr",
     "output_type": "stream",
     "text": [
      "\r\n",
      "Processing:  15%|██████████▏                                                        | 152/1000 [00:28<01:33,  9.03it/s]"
     ]
    },
    {
     "name": "stdout",
     "output_type": "stream",
     "text": [
      "Sample 151: Invalid features (num_cells=0)\n"
     ]
    },
    {
     "name": "stderr",
     "output_type": "stream",
     "text": [
      "\r\n",
      "Processing:  15%|██████████▎                                                        | 153/1000 [00:28<01:52,  7.52it/s]"
     ]
    },
    {
     "name": "stdout",
     "output_type": "stream",
     "text": [
      "Sample 152: Invalid features (num_cells=0)\n"
     ]
    },
    {
     "name": "stderr",
     "output_type": "stream",
     "text": [
      "Processing:  16%|██████████▍                                                        | 155/1000 [00:28<02:14,  6.28it/s]"
     ]
    },
    {
     "name": "stdout",
     "output_type": "stream",
     "text": [
      "Sample 153: Invalid features (num_cells=0)\n",
      "Sample 154: Invalid features (num_cells=0)\n"
     ]
    },
    {
     "name": "stderr",
     "output_type": "stream",
     "text": [
      "Processing:  16%|██████████▌                                                        | 158/1000 [00:29<02:21,  5.95it/s]"
     ]
    },
    {
     "name": "stdout",
     "output_type": "stream",
     "text": [
      "Sample 156: Invalid features (num_cells=0)\n",
      "Sample 157: Invalid features (num_cells=0)\n"
     ]
    },
    {
     "name": "stderr",
     "output_type": "stream",
     "text": [
      "Processing:  16%|██████████▊                                                        | 161/1000 [00:29<01:55,  7.26it/s]"
     ]
    },
    {
     "name": "stdout",
     "output_type": "stream",
     "text": [
      "Sample 158: Invalid features (num_cells=0)\n",
      "Sample 159: Invalid features (num_cells=0)\n",
      "Sample 160: Invalid features (num_cells=0)\n"
     ]
    },
    {
     "name": "stderr",
     "output_type": "stream",
     "text": [
      "Processing:  16%|██████████▉                                                        | 163/1000 [00:29<01:45,  7.94it/s]"
     ]
    },
    {
     "name": "stdout",
     "output_type": "stream",
     "text": [
      "Sample 161: Invalid features (num_cells=0)\n",
      "Sample 162: Invalid features (num_cells=0)\n",
      "Sample 163: Invalid features (num_cells=0)\n"
     ]
    },
    {
     "name": "stderr",
     "output_type": "stream",
     "text": [
      "Processing:  17%|███████████▏                                                       | 167/1000 [00:30<01:26,  9.64it/s]"
     ]
    },
    {
     "name": "stdout",
     "output_type": "stream",
     "text": [
      "Sample 164: Invalid features (num_cells=0)\n",
      "Sample 165: Invalid features (num_cells=0)\n",
      "Sample 166: Invalid features (num_cells=0)\n"
     ]
    },
    {
     "name": "stderr",
     "output_type": "stream",
     "text": [
      "Processing:  17%|███████████▎                                                       | 169/1000 [00:30<01:44,  7.96it/s]"
     ]
    },
    {
     "name": "stdout",
     "output_type": "stream",
     "text": [
      "Sample 167: Invalid features (num_cells=0)\n",
      "Sample 168: Invalid features (num_cells=0)\n"
     ]
    },
    {
     "name": "stderr",
     "output_type": "stream",
     "text": [
      "\r\n",
      "Processing:  17%|███████████▍                                                       | 170/1000 [00:30<01:39,  8.37it/s]"
     ]
    },
    {
     "name": "stdout",
     "output_type": "stream",
     "text": [
      "Sample 169: Invalid features (num_cells=0)\n",
      "Sample 170: Invalid features (num_cells=0)\n"
     ]
    },
    {
     "name": "stderr",
     "output_type": "stream",
     "text": [
      "Processing:  17%|███████████▋                                                       | 174/1000 [00:31<01:31,  9.06it/s]"
     ]
    },
    {
     "name": "stdout",
     "output_type": "stream",
     "text": [
      "Sample 171: Invalid features (num_cells=0)\n",
      "Sample 172: Invalid features (num_cells=0)\n",
      "Sample 173: Invalid features (num_cells=0)\n"
     ]
    },
    {
     "name": "stderr",
     "output_type": "stream",
     "text": [
      "Processing:  18%|███████████▊                                                       | 176/1000 [00:31<01:46,  7.73it/s]"
     ]
    },
    {
     "name": "stdout",
     "output_type": "stream",
     "text": [
      "Sample 174: Invalid features (num_cells=0)\n",
      "Sample 175: Invalid features (num_cells=0)\n"
     ]
    },
    {
     "name": "stderr",
     "output_type": "stream",
     "text": [
      "\r\n",
      "Processing:  18%|███████████▉                                                       | 178/1000 [00:31<01:46,  7.72it/s]"
     ]
    },
    {
     "name": "stdout",
     "output_type": "stream",
     "text": [
      "Sample 176: Invalid features (num_cells=0)\n",
      "Sample 177: Invalid features (num_cells=0)\n"
     ]
    },
    {
     "name": "stderr",
     "output_type": "stream",
     "text": [
      "Processing:  18%|████████████                                                       | 180/1000 [00:31<01:49,  7.48it/s]"
     ]
    },
    {
     "name": "stdout",
     "output_type": "stream",
     "text": [
      "Sample 178: Invalid features (num_cells=0)\n",
      "Sample 179: Invalid features (num_cells=0)\n"
     ]
    },
    {
     "name": "stderr",
     "output_type": "stream",
     "text": [
      "\r\n",
      "Processing:  18%|████████████▏                                                      | 182/1000 [00:32<01:35,  8.53it/s]"
     ]
    },
    {
     "name": "stdout",
     "output_type": "stream",
     "text": [
      "Sample 180: Invalid features (num_cells=0)\n",
      "Sample 181: Invalid features (num_cells=0)\n"
     ]
    },
    {
     "name": "stderr",
     "output_type": "stream",
     "text": [
      "\r\n",
      "Processing:  18%|████████████▎                                                      | 183/1000 [00:32<01:59,  6.83it/s]"
     ]
    },
    {
     "name": "stdout",
     "output_type": "stream",
     "text": [
      "Sample 183: Invalid features (num_cells=0)\n"
     ]
    },
    {
     "name": "stderr",
     "output_type": "stream",
     "text": [
      "Processing:  19%|████████████▌                                                      | 187/1000 [00:32<02:05,  6.48it/s]"
     ]
    },
    {
     "name": "stdout",
     "output_type": "stream",
     "text": [
      "Sample 185: Invalid features (num_cells=0)\n",
      "Sample 186: Invalid features (num_cells=0)\n"
     ]
    },
    {
     "name": "stderr",
     "output_type": "stream",
     "text": [
      "\r\n",
      "Processing:  19%|████████████▋                                                      | 189/1000 [00:33<01:55,  7.00it/s]"
     ]
    },
    {
     "name": "stdout",
     "output_type": "stream",
     "text": [
      "Sample 187: Invalid features (num_cells=0)\n",
      "Sample 188: Invalid features (num_cells=0)\n"
     ]
    },
    {
     "name": "stderr",
     "output_type": "stream",
     "text": [
      "\r\n",
      "Processing:  19%|████████████▊                                                      | 191/1000 [00:33<01:50,  7.34it/s]"
     ]
    },
    {
     "name": "stdout",
     "output_type": "stream",
     "text": [
      "Sample 189: Invalid features (num_cells=0)\n",
      "Sample 190: Invalid features (num_cells=0)\n"
     ]
    },
    {
     "name": "stderr",
     "output_type": "stream",
     "text": [
      "\r\n",
      "Processing:  19%|████████████▉                                                      | 193/1000 [00:33<01:35,  8.46it/s]"
     ]
    },
    {
     "name": "stdout",
     "output_type": "stream",
     "text": [
      "Sample 191: Invalid features (num_cells=0)\n",
      "Sample 192: Invalid features (num_cells=0)\n",
      "Sample 193: Invalid features (num_cells=0)\n"
     ]
    },
    {
     "name": "stderr",
     "output_type": "stream",
     "text": [
      "Processing:  20%|█████████████▏                                                     | 197/1000 [00:34<01:44,  7.68it/s]"
     ]
    },
    {
     "name": "stdout",
     "output_type": "stream",
     "text": [
      "Sample 195: Invalid features (num_cells=0)\n",
      "Sample 196: Invalid features (num_cells=0)\n"
     ]
    },
    {
     "name": "stderr",
     "output_type": "stream",
     "text": [
      "\r\n",
      "Processing:  20%|█████████████▎                                                     | 199/1000 [00:34<01:33,  8.53it/s]"
     ]
    },
    {
     "name": "stdout",
     "output_type": "stream",
     "text": [
      "Sample 197: Invalid features (num_cells=0)\n",
      "Sample 198: Invalid features (num_cells=0)\n"
     ]
    },
    {
     "name": "stderr",
     "output_type": "stream",
     "text": [
      "Processing:  20%|█████████████▌                                                     | 202/1000 [00:34<01:31,  8.73it/s]"
     ]
    },
    {
     "name": "stdout",
     "output_type": "stream",
     "text": [
      "Sample 199: Invalid features (num_cells=0)\n",
      "Sample 200: Invalid features (num_cells=0)\n",
      "Sample 201: Invalid features (num_cells=0)\n"
     ]
    },
    {
     "name": "stderr",
     "output_type": "stream",
     "text": [
      "\r\n",
      "Processing:  20%|█████████████▋                                                     | 204/1000 [00:34<01:27,  9.05it/s]"
     ]
    },
    {
     "name": "stdout",
     "output_type": "stream",
     "text": [
      "Sample 202: Invalid features (num_cells=0)\n",
      "Sample 203: Invalid features (num_cells=0)\n",
      "Sample 204: Invalid features (num_cells=0)\n"
     ]
    },
    {
     "name": "stderr",
     "output_type": "stream",
     "text": [
      "Processing:  21%|█████████████▉                                                     | 208/1000 [00:35<01:27,  9.03it/s]"
     ]
    },
    {
     "name": "stdout",
     "output_type": "stream",
     "text": [
      "Sample 205: Invalid features (num_cells=0)\n",
      "Sample 206: Invalid features (num_cells=0)\n",
      "Sample 207: Invalid features (num_cells=0)\n"
     ]
    },
    {
     "name": "stderr",
     "output_type": "stream",
     "text": [
      "\r\n",
      "Processing:  21%|██████████████                                                     | 210/1000 [00:35<01:20,  9.80it/s]"
     ]
    },
    {
     "name": "stdout",
     "output_type": "stream",
     "text": [
      "Sample 208: Invalid features (num_cells=0)\n",
      "Sample 209: Invalid features (num_cells=0)\n"
     ]
    },
    {
     "name": "stderr",
     "output_type": "stream",
     "text": [
      "Processing:  21%|██████████████▎                                                    | 213/1000 [00:36<01:43,  7.64it/s]"
     ]
    },
    {
     "name": "stdout",
     "output_type": "stream",
     "text": [
      "Sample 211: Invalid features (num_cells=0)\n",
      "Sample 212: Invalid features (num_cells=0)\n"
     ]
    },
    {
     "name": "stderr",
     "output_type": "stream",
     "text": [
      "Processing:  22%|██████████████▍                                                    | 215/1000 [00:36<01:42,  7.64it/s]"
     ]
    },
    {
     "name": "stdout",
     "output_type": "stream",
     "text": [
      "Sample 213: Invalid features (num_cells=0)\n",
      "Sample 214: Invalid features (num_cells=0)\n"
     ]
    },
    {
     "name": "stderr",
     "output_type": "stream",
     "text": [
      "\r\n",
      "Processing:  22%|██████████████▍                                                    | 216/1000 [00:36<01:51,  7.05it/s]"
     ]
    },
    {
     "name": "stdout",
     "output_type": "stream",
     "text": [
      "Sample 215: Invalid features (num_cells=0)\n",
      "Sample 216: Invalid features (num_cells=0)\n"
     ]
    },
    {
     "name": "stderr",
     "output_type": "stream",
     "text": [
      "Processing:  22%|██████████████▋                                                    | 220/1000 [00:37<01:38,  7.94it/s]"
     ]
    },
    {
     "name": "stdout",
     "output_type": "stream",
     "text": [
      "Sample 217: Invalid features (num_cells=0)\n",
      "Sample 218: Invalid features (num_cells=0)\n",
      "Sample 219: Invalid features (num_cells=0)\n"
     ]
    },
    {
     "name": "stderr",
     "output_type": "stream",
     "text": [
      "\r\n",
      "Processing:  22%|██████████████▊                                                    | 222/1000 [00:37<01:27,  8.90it/s]"
     ]
    },
    {
     "name": "stdout",
     "output_type": "stream",
     "text": [
      "Sample 220: Invalid features (num_cells=0)\n",
      "Sample 221: Invalid features (num_cells=0)\n"
     ]
    },
    {
     "name": "stderr",
     "output_type": "stream",
     "text": [
      "Processing:  22%|███████████████                                                    | 224/1000 [00:37<01:39,  7.81it/s]"
     ]
    },
    {
     "name": "stdout",
     "output_type": "stream",
     "text": [
      "Sample 222: Invalid features (num_cells=0)\n"
     ]
    },
    {
     "name": "stderr",
     "output_type": "stream",
     "text": [
      "\r\n",
      "Processing:  23%|███████████████▏                                                   | 226/1000 [00:37<01:43,  7.47it/s]"
     ]
    },
    {
     "name": "stdout",
     "output_type": "stream",
     "text": [
      "Sample 224: Invalid features (num_cells=0)\n",
      "Sample 225: Invalid features (num_cells=0)\n"
     ]
    },
    {
     "name": "stderr",
     "output_type": "stream",
     "text": [
      "Processing:  23%|███████████████▎                                                   | 229/1000 [00:38<01:29,  8.63it/s]"
     ]
    },
    {
     "name": "stdout",
     "output_type": "stream",
     "text": [
      "Sample 226: Invalid features (num_cells=0)\n",
      "Sample 227: Invalid features (num_cells=0)\n",
      "Sample 228: Invalid features (num_cells=0)\n"
     ]
    },
    {
     "name": "stderr",
     "output_type": "stream",
     "text": [
      "\r\n",
      "Processing:  23%|███████████████▍                                                   | 231/1000 [00:38<01:22,  9.31it/s]"
     ]
    },
    {
     "name": "stdout",
     "output_type": "stream",
     "text": [
      "Sample 229: Invalid features (num_cells=0)\n",
      "Sample 230: Invalid features (num_cells=0)\n"
     ]
    },
    {
     "name": "stderr",
     "output_type": "stream",
     "text": [
      "Processing:  23%|███████████████▌                                                   | 233/1000 [00:38<01:34,  8.13it/s]"
     ]
    },
    {
     "name": "stdout",
     "output_type": "stream",
     "text": [
      "Sample 231: Invalid features (num_cells=0)\n",
      "Sample 232: Invalid features (num_cells=0)\n"
     ]
    },
    {
     "name": "stderr",
     "output_type": "stream",
     "text": [
      "\r\n",
      "Processing:  24%|███████████████▋                                                   | 235/1000 [00:38<01:32,  8.31it/s]"
     ]
    },
    {
     "name": "stdout",
     "output_type": "stream",
     "text": [
      "Sample 233: Invalid features (num_cells=0)\n",
      "Sample 234: Invalid features (num_cells=0)\n"
     ]
    },
    {
     "name": "stderr",
     "output_type": "stream",
     "text": [
      "Processing:  24%|███████████████▉                                                   | 237/1000 [00:39<01:27,  8.74it/s]"
     ]
    },
    {
     "name": "stdout",
     "output_type": "stream",
     "text": [
      "Sample 235: Invalid features (num_cells=0)\n",
      "Sample 236: Invalid features (num_cells=0)\n",
      "Sample 237: Invalid features (num_cells=0)\n"
     ]
    },
    {
     "name": "stderr",
     "output_type": "stream",
     "text": [
      "Processing:  24%|████████████████▏                                                  | 241/1000 [00:39<01:23,  9.12it/s]"
     ]
    },
    {
     "name": "stdout",
     "output_type": "stream",
     "text": [
      "Sample 238: Invalid features (num_cells=0)\n",
      "Sample 239: Invalid features (num_cells=0)\n",
      "Sample 240: Invalid features (num_cells=0)\n"
     ]
    },
    {
     "name": "stderr",
     "output_type": "stream",
     "text": [
      "Processing:  24%|████████████████▎                                                  | 244/1000 [00:39<01:16,  9.91it/s]"
     ]
    },
    {
     "name": "stdout",
     "output_type": "stream",
     "text": [
      "Sample 241: Invalid features (num_cells=0)\n",
      "Sample 242: Invalid features (num_cells=0)\n",
      "Sample 243: Invalid features (num_cells=0)\n"
     ]
    },
    {
     "name": "stderr",
     "output_type": "stream",
     "text": [
      "Processing:  25%|████████████████▍                                                  | 246/1000 [00:40<01:27,  8.59it/s]"
     ]
    },
    {
     "name": "stdout",
     "output_type": "stream",
     "text": [
      "Sample 244: Invalid features (num_cells=0)\n",
      "Sample 245: Invalid features (num_cells=0)\n"
     ]
    },
    {
     "name": "stderr",
     "output_type": "stream",
     "text": [
      "\r\n",
      "Processing:  25%|████████████████▌                                                  | 248/1000 [00:40<01:21,  9.19it/s]"
     ]
    },
    {
     "name": "stdout",
     "output_type": "stream",
     "text": [
      "Sample 246: Invalid features (num_cells=0)\n",
      "Sample 247: Invalid features (num_cells=0)\n",
      "Sample 248: Invalid features (num_cells=0)\n"
     ]
    },
    {
     "name": "stderr",
     "output_type": "stream",
     "text": [
      "Processing:  25%|████████████████▉                                                  | 252/1000 [00:40<01:10, 10.62it/s]"
     ]
    },
    {
     "name": "stdout",
     "output_type": "stream",
     "text": [
      "Sample 249: Invalid features (num_cells=0)\n",
      "Sample 250: Invalid features (num_cells=0)\n",
      "Sample 251: Invalid features (num_cells=0)\n"
     ]
    },
    {
     "name": "stderr",
     "output_type": "stream",
     "text": [
      "\r\n",
      "Processing:  25%|█████████████████                                                  | 254/1000 [00:40<01:15,  9.83it/s]"
     ]
    },
    {
     "name": "stdout",
     "output_type": "stream",
     "text": [
      "Sample 252: Invalid features (num_cells=0)\n",
      "Sample 253: Invalid features (num_cells=0)\n"
     ]
    },
    {
     "name": "stderr",
     "output_type": "stream",
     "text": [
      "\r\n",
      "Processing:  26%|█████████████████▏                                                 | 256/1000 [00:41<01:24,  8.81it/s]"
     ]
    },
    {
     "name": "stdout",
     "output_type": "stream",
     "text": [
      "Sample 254: Invalid features (num_cells=0)\n",
      "Sample 255: Invalid features (num_cells=0)\n"
     ]
    },
    {
     "name": "stderr",
     "output_type": "stream",
     "text": [
      "Processing:  26%|█████████████████▎                                                 | 259/1000 [00:41<01:47,  6.88it/s]"
     ]
    },
    {
     "name": "stdout",
     "output_type": "stream",
     "text": [
      "Sample 257: Invalid features (num_cells=0)\n"
     ]
    },
    {
     "name": "stderr",
     "output_type": "stream",
     "text": [
      "Processing:  26%|█████████████████▋                                                 | 264/1000 [00:42<02:22,  5.18it/s]"
     ]
    },
    {
     "name": "stdout",
     "output_type": "stream",
     "text": [
      "Sample 262: Invalid features (num_cells=0)\n",
      "Sample 263: Invalid features (num_cells=0)\n"
     ]
    },
    {
     "name": "stderr",
     "output_type": "stream",
     "text": [
      "Processing:  27%|█████████████████▊                                                 | 266/1000 [00:43<02:04,  5.91it/s]"
     ]
    },
    {
     "name": "stdout",
     "output_type": "stream",
     "text": [
      "Sample 264: Invalid features (num_cells=0)\n",
      "Sample 265: Invalid features (num_cells=0)\n"
     ]
    },
    {
     "name": "stderr",
     "output_type": "stream",
     "text": [
      "Processing:  27%|█████████████████▉                                                 | 268/1000 [00:43<01:46,  6.86it/s]"
     ]
    },
    {
     "name": "stdout",
     "output_type": "stream",
     "text": [
      "Sample 266: Invalid features (num_cells=0)\n",
      "Sample 267: Invalid features (num_cells=0)\n",
      "Sample 268: Invalid features (num_cells=0)\n"
     ]
    },
    {
     "name": "stderr",
     "output_type": "stream",
     "text": [
      "\r\n",
      "Processing:  27%|██████████████████                                                 | 270/1000 [00:43<01:25,  8.53it/s]"
     ]
    },
    {
     "name": "stdout",
     "output_type": "stream",
     "text": [
      "Sample 269: Invalid features (num_cells=0)\n",
      "Sample 270: Invalid features (num_cells=0)\n"
     ]
    },
    {
     "name": "stderr",
     "output_type": "stream",
     "text": [
      "Processing:  27%|██████████████████▎                                                | 274/1000 [00:44<01:18,  9.30it/s]"
     ]
    },
    {
     "name": "stdout",
     "output_type": "stream",
     "text": [
      "Sample 271: Invalid features (num_cells=0)\n",
      "Sample 272: Invalid features (num_cells=0)\n",
      "Sample 273: Invalid features (num_cells=0)\n"
     ]
    },
    {
     "name": "stderr",
     "output_type": "stream",
     "text": [
      "\r\n",
      "Processing:  28%|██████████████████▍                                                | 276/1000 [00:44<01:12,  9.93it/s]"
     ]
    },
    {
     "name": "stdout",
     "output_type": "stream",
     "text": [
      "Sample 274: Invalid features (num_cells=0)\n",
      "Sample 275: Invalid features (num_cells=0)\n",
      "Sample 276: Invalid features (num_cells=0)\n"
     ]
    },
    {
     "name": "stderr",
     "output_type": "stream",
     "text": [
      "\r\n",
      "Processing:  28%|██████████████████▋                                                | 278/1000 [00:44<01:12, 10.00it/s]"
     ]
    },
    {
     "name": "stdout",
     "output_type": "stream",
     "text": [
      "Sample 277: Invalid features (num_cells=0)\n"
     ]
    },
    {
     "name": "stderr",
     "output_type": "stream",
     "text": [
      "\r\n",
      "Processing:  28%|██████████████████▊                                                | 280/1000 [00:44<01:36,  7.42it/s]"
     ]
    },
    {
     "name": "stdout",
     "output_type": "stream",
     "text": [
      "Sample 279: Invalid features (num_cells=0)\n",
      "Sample 280: Invalid features (num_cells=0)\n"
     ]
    },
    {
     "name": "stderr",
     "output_type": "stream",
     "text": [
      "\r\n",
      "Processing:  28%|██████████████████▉                                                | 282/1000 [00:45<01:29,  7.99it/s]"
     ]
    },
    {
     "name": "stdout",
     "output_type": "stream",
     "text": [
      "Sample 281: Invalid features (num_cells=0)\n",
      "Sample 282: Invalid features (num_cells=0)\n"
     ]
    },
    {
     "name": "stderr",
     "output_type": "stream",
     "text": [
      "Processing:  29%|███████████████████▏                                               | 286/1000 [00:45<01:25,  8.37it/s]"
     ]
    },
    {
     "name": "stdout",
     "output_type": "stream",
     "text": [
      "Sample 284: Invalid features (num_cells=0)\n",
      "Sample 285: Invalid features (num_cells=0)\n",
      "Sample 286: Invalid features (num_cells=0)\n"
     ]
    },
    {
     "name": "stderr",
     "output_type": "stream",
     "text": [
      "\r\n",
      "Processing:  29%|███████████████████▎                                               | 288/1000 [00:45<01:15,  9.45it/s]"
     ]
    },
    {
     "name": "stdout",
     "output_type": "stream",
     "text": [
      "Sample 287: Invalid features (num_cells=0)\n",
      "Sample 288: Invalid features (num_cells=0)\n"
     ]
    },
    {
     "name": "stderr",
     "output_type": "stream",
     "text": [
      "Processing:  29%|███████████████████▌                                               | 292/1000 [00:46<01:13,  9.66it/s]"
     ]
    },
    {
     "name": "stdout",
     "output_type": "stream",
     "text": [
      "Sample 289: Invalid features (num_cells=0)\n",
      "Sample 290: Invalid features (num_cells=0)\n",
      "Sample 291: Invalid features (num_cells=0)\n"
     ]
    },
    {
     "name": "stderr",
     "output_type": "stream",
     "text": [
      "\r\n",
      "Processing:  29%|███████████████████▋                                               | 294/1000 [00:46<01:08, 10.37it/s]"
     ]
    },
    {
     "name": "stdout",
     "output_type": "stream",
     "text": [
      "Sample 292: Invalid features (num_cells=0)\n",
      "Sample 293: Invalid features (num_cells=0)\n"
     ]
    },
    {
     "name": "stderr",
     "output_type": "stream",
     "text": [
      "Processing:  30%|███████████████████▉                                               | 297/1000 [00:46<01:33,  7.54it/s]"
     ]
    },
    {
     "name": "stdout",
     "output_type": "stream",
     "text": [
      "Sample 295: Invalid features (num_cells=0)\n",
      "Sample 296: Invalid features (num_cells=0)\n"
     ]
    },
    {
     "name": "stderr",
     "output_type": "stream",
     "text": [
      "Processing:  30%|████████████████████                                               | 300/1000 [00:47<01:18,  8.96it/s]"
     ]
    },
    {
     "name": "stdout",
     "output_type": "stream",
     "text": [
      "Sample 297: Invalid features (num_cells=0)\n",
      "Sample 298: Invalid features (num_cells=0)\n",
      "Sample 299: Invalid features (num_cells=0)\n"
     ]
    },
    {
     "name": "stderr",
     "output_type": "stream",
     "text": [
      "\r\n",
      "Processing:  30%|████████████████████▏                                              | 302/1000 [00:47<01:08, 10.13it/s]"
     ]
    },
    {
     "name": "stdout",
     "output_type": "stream",
     "text": [
      "Sample 300: Invalid features (num_cells=0)\n",
      "Sample 301: Invalid features (num_cells=0)\n",
      "Sample 302: Invalid features (num_cells=0)\n"
     ]
    },
    {
     "name": "stderr",
     "output_type": "stream",
     "text": [
      "Processing:  31%|████████████████████▌                                              | 306/1000 [00:47<01:08, 10.09it/s]"
     ]
    },
    {
     "name": "stdout",
     "output_type": "stream",
     "text": [
      "Sample 303: Invalid features (num_cells=0)\n",
      "Sample 304: Invalid features (num_cells=0)\n",
      "Sample 305: Invalid features (num_cells=0)\n"
     ]
    },
    {
     "name": "stderr",
     "output_type": "stream",
     "text": [
      "\r\n",
      "Processing:  31%|████████████████████▋                                              | 308/1000 [00:47<01:05, 10.56it/s]"
     ]
    },
    {
     "name": "stdout",
     "output_type": "stream",
     "text": [
      "Sample 306: Invalid features (num_cells=0)\n",
      "Sample 307: Invalid features (num_cells=0)\n",
      "Sample 308: Invalid features (num_cells=0)\n"
     ]
    },
    {
     "name": "stderr",
     "output_type": "stream",
     "text": [
      "Processing:  31%|████████████████████▉                                              | 312/1000 [00:48<01:04, 10.75it/s]"
     ]
    },
    {
     "name": "stdout",
     "output_type": "stream",
     "text": [
      "Sample 309: Invalid features (num_cells=0)\n",
      "Sample 310: Invalid features (num_cells=0)\n",
      "Sample 311: Invalid features (num_cells=0)\n"
     ]
    },
    {
     "name": "stderr",
     "output_type": "stream",
     "text": [
      "\r\n",
      "Processing:  31%|█████████████████████                                              | 314/1000 [00:48<01:00, 11.30it/s]"
     ]
    },
    {
     "name": "stdout",
     "output_type": "stream",
     "text": [
      "Sample 312: Invalid features (num_cells=0)\n",
      "Sample 313: Invalid features (num_cells=0)\n",
      "Sample 314: Invalid features (num_cells=0)\n"
     ]
    },
    {
     "name": "stderr",
     "output_type": "stream",
     "text": [
      "\r\n",
      "Processing:  32%|█████████████████████▏                                             | 316/1000 [00:48<01:06, 10.36it/s]"
     ]
    },
    {
     "name": "stdout",
     "output_type": "stream",
     "text": [
      "Sample 315: Invalid features (num_cells=0)\n",
      "Sample 316: Invalid features (num_cells=0)\n"
     ]
    },
    {
     "name": "stderr",
     "output_type": "stream",
     "text": [
      "\r\n",
      "Processing:  32%|█████████████████████▎                                             | 318/1000 [00:48<01:09,  9.79it/s]"
     ]
    },
    {
     "name": "stdout",
     "output_type": "stream",
     "text": [
      "Sample 317: Invalid features (num_cells=0)\n",
      "Sample 318: Invalid features (num_cells=0)\n"
     ]
    },
    {
     "name": "stderr",
     "output_type": "stream",
     "text": [
      "Processing:  32%|█████████████████████▌                                             | 321/1000 [00:49<01:10,  9.65it/s]"
     ]
    },
    {
     "name": "stdout",
     "output_type": "stream",
     "text": [
      "Sample 319: Invalid features (num_cells=0)\n",
      "Sample 320: Invalid features (num_cells=0)\n",
      "Sample 321: Invalid features (num_cells=0)\n"
     ]
    },
    {
     "name": "stderr",
     "output_type": "stream",
     "text": [
      "\r\n",
      "Processing:  32%|█████████████████████▋                                             | 323/1000 [00:49<01:06, 10.13it/s]"
     ]
    },
    {
     "name": "stdout",
     "output_type": "stream",
     "text": [
      "Sample 322: Invalid features (num_cells=0)\n",
      "Sample 323: Invalid features (num_cells=0)\n"
     ]
    },
    {
     "name": "stderr",
     "output_type": "stream",
     "text": [
      "Processing:  33%|█████████████████████▊                                             | 326/1000 [00:49<01:08,  9.86it/s]"
     ]
    },
    {
     "name": "stdout",
     "output_type": "stream",
     "text": [
      "Sample 324: Invalid features (num_cells=0)\n",
      "Sample 325: Invalid features (num_cells=0)\n"
     ]
    },
    {
     "name": "stderr",
     "output_type": "stream",
     "text": [
      "Processing:  33%|██████████████████████                                             | 329/1000 [00:49<01:06, 10.11it/s]"
     ]
    },
    {
     "name": "stdout",
     "output_type": "stream",
     "text": [
      "Sample 326: Invalid features (num_cells=0)\n",
      "Sample 327: Invalid features (num_cells=0)\n",
      "Sample 328: Invalid features (num_cells=0)\n"
     ]
    },
    {
     "name": "stderr",
     "output_type": "stream",
     "text": [
      "\r\n",
      "Processing:  33%|██████████████████████▏                                            | 331/1000 [00:50<01:14,  8.96it/s]"
     ]
    },
    {
     "name": "stdout",
     "output_type": "stream",
     "text": [
      "Sample 329: Invalid features (num_cells=0)\n",
      "Sample 330: Invalid features (num_cells=0)\n",
      "Sample 331: Invalid features (num_cells=0)\n"
     ]
    },
    {
     "name": "stderr",
     "output_type": "stream",
     "text": [
      "Processing:  33%|██████████████████████▍                                            | 334/1000 [00:50<01:12,  9.25it/s]"
     ]
    },
    {
     "name": "stdout",
     "output_type": "stream",
     "text": [
      "Sample 332: Invalid features (num_cells=0)\n",
      "Sample 333: Invalid features (num_cells=0)\n"
     ]
    },
    {
     "name": "stderr",
     "output_type": "stream",
     "text": [
      "\r\n",
      "Processing:  34%|██████████████████████▌                                            | 336/1000 [00:50<01:13,  9.08it/s]"
     ]
    },
    {
     "name": "stdout",
     "output_type": "stream",
     "text": [
      "Sample 334: Invalid features (num_cells=0)\n",
      "Sample 335: Invalid features (num_cells=0)\n"
     ]
    },
    {
     "name": "stderr",
     "output_type": "stream",
     "text": [
      "\r\n",
      "Processing:  34%|██████████████████████▌                                            | 337/1000 [00:50<01:12,  9.20it/s]"
     ]
    },
    {
     "name": "stdout",
     "output_type": "stream",
     "text": [
      "Sample 336: Invalid features (num_cells=0)\n",
      "Sample 337: Invalid features (num_cells=0)\n"
     ]
    },
    {
     "name": "stderr",
     "output_type": "stream",
     "text": [
      "Processing:  34%|██████████████████████▊                                            | 340/1000 [00:51<01:14,  8.88it/s]"
     ]
    },
    {
     "name": "stdout",
     "output_type": "stream",
     "text": [
      "Sample 338: Invalid features (num_cells=0)\n",
      "Sample 339: Invalid features (num_cells=0)\n"
     ]
    },
    {
     "name": "stderr",
     "output_type": "stream",
     "text": [
      "\r\n",
      "Processing:  34%|██████████████████████▊                                            | 341/1000 [00:51<01:22,  8.00it/s]"
     ]
    },
    {
     "name": "stdout",
     "output_type": "stream",
     "text": [
      "Sample 340: Invalid features (num_cells=0)\n",
      "Sample 341: Invalid features (num_cells=0)\n"
     ]
    },
    {
     "name": "stderr",
     "output_type": "stream",
     "text": [
      "Processing:  34%|███████████████████████                                            | 345/1000 [00:51<01:11,  9.18it/s]"
     ]
    },
    {
     "name": "stdout",
     "output_type": "stream",
     "text": [
      "Sample 342: Invalid features (num_cells=0)\n",
      "Sample 343: Invalid features (num_cells=0)\n",
      "Sample 344: Invalid features (num_cells=0)\n"
     ]
    },
    {
     "name": "stderr",
     "output_type": "stream",
     "text": [
      "\r\n",
      "Processing:  35%|███████████████████████▏                                           | 347/1000 [00:51<01:04, 10.10it/s]"
     ]
    },
    {
     "name": "stdout",
     "output_type": "stream",
     "text": [
      "Sample 345: Invalid features (num_cells=0)\n",
      "Sample 346: Invalid features (num_cells=0)\n",
      "Sample 347: Invalid features (num_cells=0)\n"
     ]
    },
    {
     "name": "stderr",
     "output_type": "stream",
     "text": [
      "Processing:  35%|███████████████████████▍                                           | 350/1000 [00:52<01:07,  9.58it/s]"
     ]
    },
    {
     "name": "stdout",
     "output_type": "stream",
     "text": [
      "Sample 348: Invalid features (num_cells=0)\n",
      "Sample 349: Invalid features (num_cells=0)\n"
     ]
    },
    {
     "name": "stderr",
     "output_type": "stream",
     "text": [
      "Processing:  35%|███████████████████████▋                                           | 353/1000 [00:52<01:07,  9.63it/s]"
     ]
    },
    {
     "name": "stdout",
     "output_type": "stream",
     "text": [
      "Sample 350: Invalid features (num_cells=0)\n",
      "Sample 351: Invalid features (num_cells=0)\n",
      "Sample 352: Invalid features (num_cells=0)\n"
     ]
    },
    {
     "name": "stderr",
     "output_type": "stream",
     "text": [
      "\r\n",
      "Processing:  36%|███████████████████████▊                                           | 355/1000 [00:52<01:14,  8.67it/s]"
     ]
    },
    {
     "name": "stdout",
     "output_type": "stream",
     "text": [
      "Sample 353: Invalid features (num_cells=0)\n"
     ]
    },
    {
     "name": "stderr",
     "output_type": "stream",
     "text": [
      "\r\n",
      "Processing:  36%|███████████████████████▉                                           | 357/1000 [00:52<01:08,  9.41it/s]"
     ]
    },
    {
     "name": "stdout",
     "output_type": "stream",
     "text": [
      "Sample 355: Invalid features (num_cells=0)\n",
      "Sample 356: Invalid features (num_cells=0)\n"
     ]
    },
    {
     "name": "stderr",
     "output_type": "stream",
     "text": [
      "Processing:  36%|████████████████████████                                           | 359/1000 [00:53<02:06,  5.05it/s]"
     ]
    },
    {
     "name": "stdout",
     "output_type": "stream",
     "text": [
      "Sample 358: Invalid features (num_cells=0)\n"
     ]
    },
    {
     "name": "stderr",
     "output_type": "stream",
     "text": [
      "Processing:  36%|████████████████████████▎                                          | 362/1000 [00:58<07:43,  1.38it/s]"
     ]
    },
    {
     "name": "stdout",
     "output_type": "stream",
     "text": [
      "Sample 360: Invalid features (num_cells=0)\n",
      "Sample 361: Invalid features (num_cells=0)\n",
      "Synthesis failed: No module declaration found in RTL code\n",
      "Sample 362: Invalid features (num_cells=0)\n",
      "Synthesis failed: No module declaration found in RTL code\n",
      "Sample 363: Invalid features (num_cells=0)\n",
      "Synthesis failed: No module declaration found in RTL code\n",
      "Sample 364: Invalid features (num_cells=0)\n",
      "Synthesis failed: No module declaration found in RTL code\n",
      "Sample 365: Invalid features (num_cells=0)\n"
     ]
    },
    {
     "name": "stderr",
     "output_type": "stream",
     "text": [
      "Processing:  37%|████████████████████████▋                                          | 369/1000 [00:58<02:17,  4.58it/s]"
     ]
    },
    {
     "name": "stdout",
     "output_type": "stream",
     "text": [
      "Sample 366: Invalid features (num_cells=0)\n",
      "Sample 367: Invalid features (num_cells=0)\n",
      "Sample 368: Invalid features (num_cells=0)\n"
     ]
    },
    {
     "name": "stderr",
     "output_type": "stream",
     "text": [
      "Processing:  37%|████████████████████████▉                                          | 373/1000 [00:59<02:06,  4.96it/s]"
     ]
    },
    {
     "name": "stdout",
     "output_type": "stream",
     "text": [
      "Sample 370: Invalid features (num_cells=0)\n",
      "Sample 371: Invalid features (num_cells=0)\n",
      "Sample 372: Invalid features (num_cells=0)\n"
     ]
    },
    {
     "name": "stderr",
     "output_type": "stream",
     "text": [
      "\r\n",
      "Processing:  38%|█████████████████████████▏                                         | 375/1000 [00:59<01:48,  5.76it/s]"
     ]
    },
    {
     "name": "stdout",
     "output_type": "stream",
     "text": [
      "Sample 373: Invalid features (num_cells=0)\n",
      "Sample 374: Invalid features (num_cells=0)\n",
      "Sample 375: Invalid features (num_cells=0)\n"
     ]
    },
    {
     "name": "stderr",
     "output_type": "stream",
     "text": [
      "\r\n",
      "Processing:  38%|█████████████████████████▎                                         | 377/1000 [01:00<01:58,  5.24it/s]"
     ]
    },
    {
     "name": "stdout",
     "output_type": "stream",
     "text": [
      "Sample 377: Invalid features (num_cells=0)\n"
     ]
    },
    {
     "name": "stderr",
     "output_type": "stream",
     "text": [
      "Processing:  38%|█████████████████████████▌                                         | 381/1000 [01:01<01:58,  5.22it/s]"
     ]
    },
    {
     "name": "stdout",
     "output_type": "stream",
     "text": [
      "Sample 379: Invalid features (num_cells=0)\n",
      "Sample 380: Invalid features (num_cells=0)\n"
     ]
    },
    {
     "name": "stderr",
     "output_type": "stream",
     "text": [
      "Processing:  38%|█████████████████████████▋                                         | 383/1000 [01:01<01:37,  6.35it/s]"
     ]
    },
    {
     "name": "stdout",
     "output_type": "stream",
     "text": [
      "Sample 381: Invalid features (num_cells=0)\n",
      "Sample 382: Invalid features (num_cells=0)\n"
     ]
    },
    {
     "name": "stderr",
     "output_type": "stream",
     "text": [
      "Processing:  39%|█████████████████████████▊                                         | 386/1000 [01:01<01:14,  8.28it/s]"
     ]
    },
    {
     "name": "stdout",
     "output_type": "stream",
     "text": [
      "Sample 383: Invalid features (num_cells=0)\n",
      "Sample 384: Invalid features (num_cells=0)\n",
      "Sample 385: Invalid features (num_cells=0)\n"
     ]
    },
    {
     "name": "stderr",
     "output_type": "stream",
     "text": [
      "\r\n",
      "Processing:  39%|█████████████████████████▉                                         | 388/1000 [01:01<01:05,  9.38it/s]"
     ]
    },
    {
     "name": "stdout",
     "output_type": "stream",
     "text": [
      "Sample 386: Invalid features (num_cells=0)\n",
      "Sample 387: Invalid features (num_cells=0)\n",
      "Sample 388: Invalid features (num_cells=0)\n"
     ]
    },
    {
     "name": "stderr",
     "output_type": "stream",
     "text": [
      "Processing:  39%|██████████████████████████▏                                        | 391/1000 [01:02<01:07,  8.98it/s]"
     ]
    },
    {
     "name": "stdout",
     "output_type": "stream",
     "text": [
      "Sample 389: Invalid features (num_cells=0)\n",
      "Sample 390: Invalid features (num_cells=0)\n"
     ]
    },
    {
     "name": "stderr",
     "output_type": "stream",
     "text": [
      "\r\n",
      "Processing:  39%|██████████████████████████▎                                        | 392/1000 [01:02<01:09,  8.79it/s]"
     ]
    },
    {
     "name": "stdout",
     "output_type": "stream",
     "text": [
      "Sample 391: Invalid features (num_cells=0)\n"
     ]
    },
    {
     "name": "stderr",
     "output_type": "stream",
     "text": [
      "Processing:  40%|██████████████████████████▍                                        | 395/1000 [01:02<01:38,  6.14it/s]"
     ]
    },
    {
     "name": "stdout",
     "output_type": "stream",
     "text": [
      "Sample 393: Invalid features (num_cells=0)\n",
      "Sample 394: Invalid features (num_cells=0)\n"
     ]
    },
    {
     "name": "stderr",
     "output_type": "stream",
     "text": [
      "\r\n",
      "Processing:  40%|██████████████████████████▌                                        | 397/1000 [01:03<01:16,  7.93it/s]"
     ]
    },
    {
     "name": "stdout",
     "output_type": "stream",
     "text": [
      "Sample 395: Invalid features (num_cells=0)\n",
      "Sample 396: Invalid features (num_cells=0)\n",
      "Sample 397: Invalid features (num_cells=0)\n"
     ]
    },
    {
     "name": "stderr",
     "output_type": "stream",
     "text": [
      "Processing:  40%|██████████████████████████▊                                        | 400/1000 [01:03<01:09,  8.63it/s]"
     ]
    },
    {
     "name": "stdout",
     "output_type": "stream",
     "text": [
      "Sample 398: Invalid features (num_cells=0)\n",
      "Sample 399: Invalid features (num_cells=0)\n"
     ]
    },
    {
     "name": "stderr",
     "output_type": "stream",
     "text": [
      "\r\n",
      "Processing:  40%|██████████████████████████▉                                        | 402/1000 [01:03<01:07,  8.87it/s]"
     ]
    },
    {
     "name": "stdout",
     "output_type": "stream",
     "text": [
      "Sample 400: Invalid features (num_cells=0)\n",
      "Sample 401: Invalid features (num_cells=0)\n"
     ]
    },
    {
     "name": "stderr",
     "output_type": "stream",
     "text": [
      "\r\n",
      "Processing:  40%|███████████████████████████                                        | 404/1000 [01:03<01:02,  9.46it/s]"
     ]
    },
    {
     "name": "stdout",
     "output_type": "stream",
     "text": [
      "Sample 402: Invalid features (num_cells=0)\n",
      "Sample 403: Invalid features (num_cells=0)\n"
     ]
    },
    {
     "name": "stderr",
     "output_type": "stream",
     "text": [
      "\r\n",
      "Processing:  40%|███████████████████████████▏                                       | 405/1000 [01:04<01:11,  8.34it/s]"
     ]
    },
    {
     "name": "stdout",
     "output_type": "stream",
     "text": [
      "Sample 404: Invalid features (num_cells=0)\n"
     ]
    },
    {
     "name": "stderr",
     "output_type": "stream",
     "text": [
      "Processing:  41%|███████████████████████████▎                                       | 408/1000 [01:04<01:31,  6.48it/s]"
     ]
    },
    {
     "name": "stdout",
     "output_type": "stream",
     "text": [
      "Sample 406: Invalid features (num_cells=0)\n",
      "Sample 407: Invalid features (num_cells=0)\n",
      "Sample 408: Invalid features (num_cells=0)\n"
     ]
    },
    {
     "name": "stderr",
     "output_type": "stream",
     "text": [
      "Processing:  41%|███████████████████████████▌                                       | 411/1000 [01:04<01:17,  7.57it/s]"
     ]
    },
    {
     "name": "stdout",
     "output_type": "stream",
     "text": [
      "Sample 409: Invalid features (num_cells=0)\n",
      "Sample 410: Invalid features (num_cells=0)\n"
     ]
    },
    {
     "name": "stderr",
     "output_type": "stream",
     "text": [
      "Processing:  41%|███████████████████████████▋                                       | 414/1000 [01:05<01:34,  6.17it/s]"
     ]
    },
    {
     "name": "stdout",
     "output_type": "stream",
     "text": [
      "Sample 412: Invalid features (num_cells=0)\n",
      "Sample 413: Invalid features (num_cells=0)\n"
     ]
    },
    {
     "name": "stderr",
     "output_type": "stream",
     "text": [
      "Processing:  42%|███████████████████████████▉                                       | 417/1000 [01:06<02:03,  4.72it/s]"
     ]
    },
    {
     "name": "stdout",
     "output_type": "stream",
     "text": [
      "Sample 415: Invalid features (num_cells=0)\n",
      "Sample 416: Invalid features (num_cells=0)\n"
     ]
    },
    {
     "name": "stderr",
     "output_type": "stream",
     "text": [
      "\r\n",
      "Processing:  42%|████████████████████████████                                       | 418/1000 [01:06<01:45,  5.50it/s]"
     ]
    },
    {
     "name": "stdout",
     "output_type": "stream",
     "text": [
      "Sample 417: Invalid features (num_cells=0)\n",
      "Sample 418: Invalid features (num_cells=0)\n"
     ]
    },
    {
     "name": "stderr",
     "output_type": "stream",
     "text": [
      "Processing:  42%|████████████████████████████▎                                      | 422/1000 [01:07<01:15,  7.63it/s]"
     ]
    },
    {
     "name": "stdout",
     "output_type": "stream",
     "text": [
      "Sample 419: Invalid features (num_cells=0)\n",
      "Sample 420: Invalid features (num_cells=0)\n",
      "Sample 421: Invalid features (num_cells=0)\n"
     ]
    },
    {
     "name": "stderr",
     "output_type": "stream",
     "text": [
      "Processing:  42%|████████████████████████████▍                                      | 425/1000 [01:07<01:02,  9.26it/s]"
     ]
    },
    {
     "name": "stdout",
     "output_type": "stream",
     "text": [
      "Sample 422: Invalid features (num_cells=0)\n",
      "Sample 423: Invalid features (num_cells=0)\n",
      "Sample 424: Invalid features (num_cells=0)\n"
     ]
    },
    {
     "name": "stderr",
     "output_type": "stream",
     "text": [
      "\r\n",
      "Processing:  43%|████████████████████████████▌                                      | 427/1000 [01:07<00:55, 10.25it/s]"
     ]
    },
    {
     "name": "stdout",
     "output_type": "stream",
     "text": [
      "Sample 425: Invalid features (num_cells=0)\n",
      "Sample 426: Invalid features (num_cells=0)\n",
      "Sample 427: Invalid features (num_cells=0)\n"
     ]
    },
    {
     "name": "stderr",
     "output_type": "stream",
     "text": [
      "Processing:  43%|████████████████████████████▉                                      | 431/1000 [01:07<00:56, 10.11it/s]"
     ]
    },
    {
     "name": "stdout",
     "output_type": "stream",
     "text": [
      "Sample 428: Invalid features (num_cells=0)\n",
      "Sample 429: Invalid features (num_cells=0)\n",
      "Sample 430: Invalid features (num_cells=0)\n"
     ]
    },
    {
     "name": "stderr",
     "output_type": "stream",
     "text": [
      "\r\n",
      "Processing:  43%|█████████████████████████████                                      | 433/1000 [01:08<00:52, 10.78it/s]"
     ]
    },
    {
     "name": "stdout",
     "output_type": "stream",
     "text": [
      "Sample 431: Invalid features (num_cells=0)\n",
      "Sample 432: Invalid features (num_cells=0)\n",
      "Sample 433: Invalid features (num_cells=0)\n"
     ]
    },
    {
     "name": "stderr",
     "output_type": "stream",
     "text": [
      "\r\n",
      "Processing:  44%|█████████████████████████████▏                                     | 435/1000 [01:08<00:56,  9.98it/s]"
     ]
    },
    {
     "name": "stdout",
     "output_type": "stream",
     "text": [
      "Sample 434: Invalid features (num_cells=0)\n",
      "Sample 435: Invalid features (num_cells=0)\n"
     ]
    },
    {
     "name": "stderr",
     "output_type": "stream",
     "text": [
      "Processing:  44%|█████████████████████████████▍                                     | 439/1000 [01:08<00:54, 10.26it/s]"
     ]
    },
    {
     "name": "stdout",
     "output_type": "stream",
     "text": [
      "Sample 436: Invalid features (num_cells=0)\n",
      "Synthesis failed: No module declaration found in RTL code\n",
      "Sample 437: Invalid features (num_cells=0)\n",
      "Sample 438: Invalid features (num_cells=0)\n"
     ]
    },
    {
     "name": "stderr",
     "output_type": "stream",
     "text": [
      "\r\n",
      "Processing:  44%|█████████████████████████████▌                                     | 441/1000 [01:08<01:01,  9.11it/s]"
     ]
    },
    {
     "name": "stdout",
     "output_type": "stream",
     "text": [
      "Sample 439: Invalid features (num_cells=0)\n",
      "Sample 440: Invalid features (num_cells=0)\n"
     ]
    },
    {
     "name": "stderr",
     "output_type": "stream",
     "text": [
      "Processing:  44%|█████████████████████████████▋                                     | 443/1000 [01:09<01:09,  8.04it/s]"
     ]
    },
    {
     "name": "stdout",
     "output_type": "stream",
     "text": [
      "Sample 441: Invalid features (num_cells=0)\n",
      "Sample 442: Invalid features (num_cells=0)\n"
     ]
    },
    {
     "name": "stderr",
     "output_type": "stream",
     "text": [
      "Processing:  45%|█████████████████████████████▉                                     | 446/1000 [01:09<01:01,  8.98it/s]"
     ]
    },
    {
     "name": "stdout",
     "output_type": "stream",
     "text": [
      "Sample 443: Invalid features (num_cells=0)\n",
      "Sample 444: Invalid features (num_cells=0)\n",
      "Sample 445: Invalid features (num_cells=0)\n"
     ]
    },
    {
     "name": "stderr",
     "output_type": "stream",
     "text": [
      "\r\n",
      "Processing:  45%|██████████████████████████████                                     | 448/1000 [01:09<01:01,  9.04it/s]"
     ]
    },
    {
     "name": "stdout",
     "output_type": "stream",
     "text": [
      "Sample 446: Invalid features (num_cells=0)\n",
      "Sample 447: Invalid features (num_cells=0)\n"
     ]
    },
    {
     "name": "stderr",
     "output_type": "stream",
     "text": [
      "\r\n",
      "Processing:  45%|██████████████████████████████▏                                    | 450/1000 [01:09<00:54, 10.13it/s]"
     ]
    },
    {
     "name": "stdout",
     "output_type": "stream",
     "text": [
      "Sample 448: Invalid features (num_cells=0)\n",
      "Sample 449: Invalid features (num_cells=0)\n",
      "Sample 450: Invalid features (num_cells=0)\n"
     ]
    },
    {
     "name": "stderr",
     "output_type": "stream",
     "text": [
      "Processing:  46%|██████████████████████████████▍                                    | 455/1000 [01:10<01:01,  8.81it/s]"
     ]
    },
    {
     "name": "stdout",
     "output_type": "stream",
     "text": [
      "Sample 452: Invalid features (num_cells=0)\n",
      "Sample 453: Invalid features (num_cells=0)\n",
      "Sample 454: Invalid features (num_cells=0)\n"
     ]
    },
    {
     "name": "stderr",
     "output_type": "stream",
     "text": [
      "\r\n",
      "Processing:  46%|██████████████████████████████▌                                    | 456/1000 [01:10<01:09,  7.86it/s]"
     ]
    },
    {
     "name": "stdout",
     "output_type": "stream",
     "text": [
      "Sample 455: Invalid features (num_cells=0)\n",
      "Sample 456: Invalid features (num_cells=0)\n"
     ]
    },
    {
     "name": "stderr",
     "output_type": "stream",
     "text": [
      "Processing:  46%|██████████████████████████████▊                                    | 459/1000 [01:11<01:08,  7.89it/s]"
     ]
    },
    {
     "name": "stdout",
     "output_type": "stream",
     "text": [
      "Sample 457: Invalid features (num_cells=0)\n",
      "Sample 458: Invalid features (num_cells=0)\n"
     ]
    },
    {
     "name": "stderr",
     "output_type": "stream",
     "text": [
      "Processing:  46%|██████████████████████████████▉                                    | 462/1000 [01:11<01:03,  8.47it/s]"
     ]
    },
    {
     "name": "stdout",
     "output_type": "stream",
     "text": [
      "Sample 459: Invalid features (num_cells=0)\n",
      "Sample 460: Invalid features (num_cells=0)\n",
      "Sample 461: Invalid features (num_cells=0)\n"
     ]
    },
    {
     "name": "stderr",
     "output_type": "stream",
     "text": [
      "\r\n",
      "Processing:  46%|███████████████████████████████                                    | 464/1000 [01:11<00:57,  9.33it/s]"
     ]
    },
    {
     "name": "stdout",
     "output_type": "stream",
     "text": [
      "Sample 462: Invalid features (num_cells=0)\n",
      "Sample 463: Invalid features (num_cells=0)\n"
     ]
    },
    {
     "name": "stderr",
     "output_type": "stream",
     "text": [
      "Processing:  47%|███████████████████████████████▎                                   | 467/1000 [01:11<00:53,  9.95it/s]"
     ]
    },
    {
     "name": "stdout",
     "output_type": "stream",
     "text": [
      "Sample 465: Invalid features (num_cells=0)\n",
      "Sample 466: Invalid features (num_cells=0)\n",
      "Sample 467: Invalid features (num_cells=0)\n"
     ]
    },
    {
     "name": "stderr",
     "output_type": "stream",
     "text": [
      "\r\n",
      "Processing:  47%|███████████████████████████████▍                                   | 469/1000 [01:12<00:52, 10.05it/s]"
     ]
    },
    {
     "name": "stdout",
     "output_type": "stream",
     "text": [
      "Sample 468: Invalid features (num_cells=0)\n",
      "Sample 469: Invalid features (num_cells=0)\n"
     ]
    },
    {
     "name": "stderr",
     "output_type": "stream",
     "text": [
      "Processing:  47%|███████████████████████████████▌                                   | 472/1000 [01:12<01:02,  8.45it/s]"
     ]
    },
    {
     "name": "stdout",
     "output_type": "stream",
     "text": [
      "Sample 470: Invalid features (num_cells=0)\n",
      "Sample 471: Invalid features (num_cells=0)\n"
     ]
    },
    {
     "name": "stderr",
     "output_type": "stream",
     "text": [
      "\r\n",
      "Processing:  47%|███████████████████████████████▋                                   | 473/1000 [01:12<01:01,  8.59it/s]"
     ]
    },
    {
     "name": "stdout",
     "output_type": "stream",
     "text": [
      "Sample 472: Invalid features (num_cells=0)\n",
      "Synthesis failed: No module declaration found in RTL code\n",
      "Sample 473: Invalid features (num_cells=0)\n"
     ]
    },
    {
     "name": "stderr",
     "output_type": "stream",
     "text": [
      "Processing:  48%|████████████████████████████████                                   | 479/1000 [01:13<01:08,  7.56it/s]"
     ]
    },
    {
     "name": "stdout",
     "output_type": "stream",
     "text": [
      "Sample 476: Invalid features (num_cells=0)\n",
      "Sample 477: Invalid features (num_cells=0)\n",
      "Sample 478: Invalid features (num_cells=0)\n"
     ]
    },
    {
     "name": "stderr",
     "output_type": "stream",
     "text": [
      "\r\n",
      "Processing:  48%|████████████████████████████████▏                                  | 480/1000 [01:13<01:26,  6.04it/s]"
     ]
    },
    {
     "name": "stdout",
     "output_type": "stream",
     "text": [
      "Sample 480: Invalid features (num_cells=0)\n"
     ]
    },
    {
     "name": "stderr",
     "output_type": "stream",
     "text": [
      "Processing:  48%|████████████████████████████████▎                                  | 483/1000 [01:14<01:28,  5.84it/s]"
     ]
    },
    {
     "name": "stdout",
     "output_type": "stream",
     "text": [
      "Sample 482: Invalid features (num_cells=0)\n",
      "Sample 483: Invalid features (num_cells=0)\n"
     ]
    },
    {
     "name": "stderr",
     "output_type": "stream",
     "text": [
      "Processing:  50%|█████████████████████████████████▎                                 | 497/1000 [01:31<05:05,  1.64it/s]"
     ]
    },
    {
     "name": "stdout",
     "output_type": "stream",
     "text": [
      "Sample 496: Invalid features (num_cells=0)\n",
      "Sample 497: Invalid features (num_cells=0)\n"
     ]
    },
    {
     "name": "stderr",
     "output_type": "stream",
     "text": [
      "Processing:  50%|█████████████████████████████████▋                                 | 503/1000 [01:32<01:50,  4.48it/s]"
     ]
    },
    {
     "name": "stdout",
     "output_type": "stream",
     "text": [
      "Sample 501: Invalid features (num_cells=0)\n",
      "Sample 502: Invalid features (num_cells=0)\n",
      "Sample 503: Invalid features (num_cells=0)\n"
     ]
    },
    {
     "name": "stderr",
     "output_type": "stream",
     "text": [
      "\r\n",
      "Processing:  50%|█████████████████████████████████▊                                 | 505/1000 [01:32<01:28,  5.58it/s]"
     ]
    },
    {
     "name": "stdout",
     "output_type": "stream",
     "text": [
      "Sample 504: Invalid features (num_cells=0)\n"
     ]
    },
    {
     "name": "stderr",
     "output_type": "stream",
     "text": [
      "Processing:  51%|██████████████████████████████████▏                                | 511/1000 [01:34<01:21,  5.98it/s]"
     ]
    },
    {
     "name": "stdout",
     "output_type": "stream",
     "text": [
      "Sample 508: Invalid features (num_cells=0)\n",
      "Sample 509: Invalid features (num_cells=0)\n",
      "Sample 510: Invalid features (num_cells=0)\n"
     ]
    },
    {
     "name": "stderr",
     "output_type": "stream",
     "text": [
      "\r\n",
      "Processing:  51%|██████████████████████████████████▎                                | 513/1000 [01:34<01:08,  7.11it/s]"
     ]
    },
    {
     "name": "stdout",
     "output_type": "stream",
     "text": [
      "Sample 511: Invalid features (num_cells=0)\n",
      "Sample 512: Invalid features (num_cells=0)\n",
      "Sample 513: Invalid features (num_cells=0)\n"
     ]
    },
    {
     "name": "stderr",
     "output_type": "stream",
     "text": [
      "Processing:  52%|██████████████████████████████████▌                                | 516/1000 [01:34<00:57,  8.44it/s]"
     ]
    },
    {
     "name": "stdout",
     "output_type": "stream",
     "text": [
      "Sample 514: Invalid features (num_cells=0)\n",
      "Sample 515: Invalid features (num_cells=0)\n",
      "Sample 516: Invalid features (num_cells=0)\n"
     ]
    },
    {
     "name": "stderr",
     "output_type": "stream",
     "text": [
      "Processing:  52%|██████████████████████████████████▊                                | 519/1000 [01:34<00:53,  9.00it/s]"
     ]
    },
    {
     "name": "stdout",
     "output_type": "stream",
     "text": [
      "Sample 517: Invalid features (num_cells=0)\n",
      "Sample 518: Invalid features (num_cells=0)\n",
      "Sample 519: Invalid features (num_cells=0)\n"
     ]
    },
    {
     "name": "stderr",
     "output_type": "stream",
     "text": [
      "\r\n",
      "Processing:  52%|██████████████████████████████████▉                                | 521/1000 [01:35<00:48,  9.82it/s]"
     ]
    },
    {
     "name": "stdout",
     "output_type": "stream",
     "text": [
      "Sample 520: Invalid features (num_cells=0)\n",
      "Sample 521: Invalid features (num_cells=0)\n"
     ]
    },
    {
     "name": "stderr",
     "output_type": "stream",
     "text": [
      "Processing:  52%|███████████████████████████████████                                | 524/1000 [01:35<00:52,  9.10it/s]"
     ]
    },
    {
     "name": "stdout",
     "output_type": "stream",
     "text": [
      "Sample 522: Invalid features (num_cells=0)\n",
      "Sample 523: Invalid features (num_cells=0)\n"
     ]
    },
    {
     "name": "stderr",
     "output_type": "stream",
     "text": [
      "Processing:  53%|███████████████████████████████████▎                               | 527/1000 [01:35<00:48,  9.75it/s]"
     ]
    },
    {
     "name": "stdout",
     "output_type": "stream",
     "text": [
      "Sample 524: Invalid features (num_cells=0)\n",
      "Sample 525: Invalid features (num_cells=0)\n",
      "Sample 526: Invalid features (num_cells=0)\n"
     ]
    },
    {
     "name": "stderr",
     "output_type": "stream",
     "text": [
      "\r\n",
      "Processing:  53%|███████████████████████████████████▍                               | 529/1000 [01:35<00:47,  9.98it/s]"
     ]
    },
    {
     "name": "stdout",
     "output_type": "stream",
     "text": [
      "Sample 527: Invalid features (num_cells=0)\n",
      "Sample 528: Invalid features (num_cells=0)\n",
      "Sample 529: Invalid features (num_cells=0)\n"
     ]
    },
    {
     "name": "stderr",
     "output_type": "stream",
     "text": [
      "\r\n",
      "Processing:  53%|███████████████████████████████████▌                               | 531/1000 [01:36<00:55,  8.52it/s]"
     ]
    },
    {
     "name": "stdout",
     "output_type": "stream",
     "text": [
      "Sample 530: Invalid features (num_cells=0)\n"
     ]
    },
    {
     "name": "stderr",
     "output_type": "stream",
     "text": [
      "Processing:  53%|███████████████████████████████████▋                               | 533/1000 [01:36<01:03,  7.30it/s]"
     ]
    },
    {
     "name": "stdout",
     "output_type": "stream",
     "text": [
      "Sample 531: Invalid features (num_cells=0)\n",
      "Sample 532: Invalid features (num_cells=0)\n",
      "Sample 533: Invalid features (num_cells=0)\n"
     ]
    },
    {
     "name": "stderr",
     "output_type": "stream",
     "text": [
      "Processing:  54%|███████████████████████████████████▉                               | 536/1000 [01:37<01:17,  5.95it/s]"
     ]
    },
    {
     "name": "stdout",
     "output_type": "stream",
     "text": [
      "Sample 535: Invalid features (num_cells=0)\n"
     ]
    },
    {
     "name": "stderr",
     "output_type": "stream",
     "text": [
      "Processing:  54%|████████████████████████████████████                               | 539/1000 [01:37<01:21,  5.64it/s]"
     ]
    },
    {
     "name": "stdout",
     "output_type": "stream",
     "text": [
      "Sample 537: Invalid features (num_cells=0)\n",
      "Sample 538: Invalid features (num_cells=0)\n"
     ]
    },
    {
     "name": "stderr",
     "output_type": "stream",
     "text": [
      "\r\n",
      "Processing:  54%|████████████████████████████████████▏                              | 541/1000 [01:37<01:04,  7.07it/s]"
     ]
    },
    {
     "name": "stdout",
     "output_type": "stream",
     "text": [
      "Sample 539: Invalid features (num_cells=0)\n",
      "Sample 540: Invalid features (num_cells=0)\n",
      "Sample 541: Invalid features (num_cells=0)\n"
     ]
    },
    {
     "name": "stderr",
     "output_type": "stream",
     "text": [
      "Processing:  55%|████████████████████████████████████▌                              | 545/1000 [01:38<00:48,  9.29it/s]"
     ]
    },
    {
     "name": "stdout",
     "output_type": "stream",
     "text": [
      "Sample 542: Invalid features (num_cells=0)\n",
      "Sample 543: Invalid features (num_cells=0)\n",
      "Sample 544: Invalid features (num_cells=0)\n"
     ]
    },
    {
     "name": "stderr",
     "output_type": "stream",
     "text": [
      "Processing:  55%|████████████████████████████████████▊                              | 549/1000 [01:38<00:55,  8.17it/s]"
     ]
    },
    {
     "name": "stdout",
     "output_type": "stream",
     "text": [
      "Sample 546: Invalid features (num_cells=0)\n",
      "Sample 547: Invalid features (num_cells=0)\n",
      "Sample 548: Invalid features (num_cells=0)\n"
     ]
    },
    {
     "name": "stderr",
     "output_type": "stream",
     "text": [
      "Processing:  55%|████████████████████████████████████▉                              | 552/1000 [01:39<01:07,  6.64it/s]"
     ]
    },
    {
     "name": "stdout",
     "output_type": "stream",
     "text": [
      "Sample 550: Invalid features (num_cells=0)\n",
      "Sample 551: Invalid features (num_cells=0)\n"
     ]
    },
    {
     "name": "stderr",
     "output_type": "stream",
     "text": [
      "Processing:  56%|█████████████████████████████████████▎                             | 556/1000 [01:40<01:00,  7.36it/s]"
     ]
    },
    {
     "name": "stdout",
     "output_type": "stream",
     "text": [
      "Sample 553: Invalid features (num_cells=0)\n",
      "Sample 554: Invalid features (num_cells=0)\n",
      "Sample 555: Invalid features (num_cells=0)\n"
     ]
    },
    {
     "name": "stderr",
     "output_type": "stream",
     "text": [
      "\r\n",
      "Processing:  56%|█████████████████████████████████████▎                             | 557/1000 [01:40<00:57,  7.75it/s]"
     ]
    },
    {
     "name": "stdout",
     "output_type": "stream",
     "text": [
      "Sample 556: Invalid features (num_cells=0)\n"
     ]
    },
    {
     "name": "stderr",
     "output_type": "stream",
     "text": [
      "Processing:  56%|█████████████████████████████████████▌                             | 561/1000 [01:41<01:38,  4.46it/s]"
     ]
    },
    {
     "name": "stdout",
     "output_type": "stream",
     "text": [
      "Sample 559: Invalid features (num_cells=0)\n",
      "Sample 560: Invalid features (num_cells=0)\n"
     ]
    },
    {
     "name": "stderr",
     "output_type": "stream",
     "text": [
      "Processing:  56%|█████████████████████████████████████▊                             | 564/1000 [01:41<01:07,  6.48it/s]"
     ]
    },
    {
     "name": "stdout",
     "output_type": "stream",
     "text": [
      "Sample 561: Invalid features (num_cells=0)\n",
      "Sample 562: Invalid features (num_cells=0)\n",
      "Sample 563: Invalid features (num_cells=0)\n"
     ]
    },
    {
     "name": "stderr",
     "output_type": "stream",
     "text": [
      "\r\n",
      "Processing:  57%|█████████████████████████████████████▉                             | 566/1000 [01:41<00:56,  7.66it/s]"
     ]
    },
    {
     "name": "stdout",
     "output_type": "stream",
     "text": [
      "Sample 564: Invalid features (num_cells=0)\n",
      "Sample 565: Invalid features (num_cells=0)\n",
      "Sample 566: Invalid features (num_cells=0)\n"
     ]
    },
    {
     "name": "stderr",
     "output_type": "stream",
     "text": [
      "Processing:  57%|██████████████████████████████████████▏                            | 570/1000 [01:42<00:56,  7.60it/s]"
     ]
    },
    {
     "name": "stdout",
     "output_type": "stream",
     "text": [
      "Sample 568: Invalid features (num_cells=0)\n",
      "Sample 569: Invalid features (num_cells=0)\n"
     ]
    },
    {
     "name": "stderr",
     "output_type": "stream",
     "text": [
      "\r\n",
      "Processing:  57%|██████████████████████████████████████▎                            | 572/1000 [01:42<00:49,  8.72it/s]"
     ]
    },
    {
     "name": "stdout",
     "output_type": "stream",
     "text": [
      "Sample 570: Invalid features (num_cells=0)\n",
      "Sample 571: Invalid features (num_cells=0)\n",
      "Sample 572: Invalid features (num_cells=0)\n"
     ]
    },
    {
     "name": "stderr",
     "output_type": "stream",
     "text": [
      "\r\n",
      "Processing:  57%|██████████████████████████████████████▍                            | 574/1000 [01:42<00:43,  9.71it/s]"
     ]
    },
    {
     "name": "stdout",
     "output_type": "stream",
     "text": [
      "Sample 573: Invalid features (num_cells=0)\n",
      "Sample 574: Invalid features (num_cells=0)\n"
     ]
    },
    {
     "name": "stderr",
     "output_type": "stream",
     "text": [
      "Processing:  58%|██████████████████████████████████████▋                            | 577/1000 [01:43<01:00,  6.99it/s]"
     ]
    },
    {
     "name": "stdout",
     "output_type": "stream",
     "text": [
      "Sample 576: Invalid features (num_cells=0)\n"
     ]
    },
    {
     "name": "stderr",
     "output_type": "stream",
     "text": [
      "Processing:  58%|██████████████████████████████████████▊                            | 580/1000 [01:44<01:06,  6.34it/s]"
     ]
    },
    {
     "name": "stdout",
     "output_type": "stream",
     "text": [
      "Sample 578: Invalid features (num_cells=0)\n",
      "Sample 579: Invalid features (num_cells=0)\n",
      "Sample 580: Invalid features (num_cells=0)\n"
     ]
    },
    {
     "name": "stderr",
     "output_type": "stream",
     "text": [
      "Processing:  58%|███████████████████████████████████████▏                           | 584/1000 [01:44<00:47,  8.74it/s]"
     ]
    },
    {
     "name": "stdout",
     "output_type": "stream",
     "text": [
      "Sample 581: Invalid features (num_cells=0)\n",
      "Sample 582: Invalid features (num_cells=0)\n",
      "Sample 583: Invalid features (num_cells=0)\n"
     ]
    },
    {
     "name": "stderr",
     "output_type": "stream",
     "text": [
      "\r\n",
      "Processing:  58%|███████████████████████████████████████▏                           | 585/1000 [01:44<00:52,  7.88it/s]"
     ]
    },
    {
     "name": "stdout",
     "output_type": "stream",
     "text": [
      "Sample 584: Invalid features (num_cells=0)\n"
     ]
    },
    {
     "name": "stderr",
     "output_type": "stream",
     "text": [
      "Processing:  59%|███████████████████████████████████████▎                           | 587/1000 [01:44<01:04,  6.40it/s]"
     ]
    },
    {
     "name": "stdout",
     "output_type": "stream",
     "text": [
      "Sample 586: Invalid features (num_cells=0)\n"
     ]
    },
    {
     "name": "stderr",
     "output_type": "stream",
     "text": [
      "Processing:  59%|███████████████████████████████████████▌                           | 591/1000 [01:45<00:52,  7.80it/s]"
     ]
    },
    {
     "name": "stdout",
     "output_type": "stream",
     "text": [
      "Sample 588: Invalid features (num_cells=0)\n",
      "Sample 589: Invalid features (num_cells=0)\n",
      "Sample 590: Invalid features (num_cells=0)\n"
     ]
    },
    {
     "name": "stderr",
     "output_type": "stream",
     "text": [
      "\r\n",
      "Processing:  59%|███████████████████████████████████████▋                           | 592/1000 [01:48<05:47,  1.18it/s]"
     ]
    },
    {
     "name": "stdout",
     "output_type": "stream",
     "text": [
      "Synthesis failed: No module declaration found in RTL code\n",
      "Sample 592: Invalid features (num_cells=0)\n",
      "Sample 593: Invalid features (num_cells=0)\n"
     ]
    },
    {
     "name": "stderr",
     "output_type": "stream",
     "text": [
      "Processing:  60%|███████████████████████████████████████▉                           | 596/1000 [01:49<02:51,  2.36it/s]"
     ]
    },
    {
     "name": "stdout",
     "output_type": "stream",
     "text": [
      "Sample 595: Invalid features (num_cells=0)\n"
     ]
    },
    {
     "name": "stderr",
     "output_type": "stream",
     "text": [
      "Processing:  60%|████████████████████████████████████████                           | 598/1000 [01:49<02:07,  3.15it/s]"
     ]
    },
    {
     "name": "stdout",
     "output_type": "stream",
     "text": [
      "Sample 596: Invalid features (num_cells=0)\n",
      "Sample 597: Invalid features (num_cells=0)\n"
     ]
    },
    {
     "name": "stderr",
     "output_type": "stream",
     "text": [
      "Processing:  60%|████████████████████████████████████████▎                          | 601/1000 [01:49<01:21,  4.92it/s]"
     ]
    },
    {
     "name": "stdout",
     "output_type": "stream",
     "text": [
      "Sample 598: Invalid features (num_cells=0)\n",
      "Sample 599: Invalid features (num_cells=0)\n",
      "Sample 600: Invalid features (num_cells=0)\n"
     ]
    },
    {
     "name": "stderr",
     "output_type": "stream",
     "text": [
      "\r\n",
      "Processing:  60%|████████████████████████████████████████▎                          | 602/1000 [01:50<01:19,  4.98it/s]"
     ]
    },
    {
     "name": "stdout",
     "output_type": "stream",
     "text": [
      "Sample 601: Invalid features (num_cells=0)\n"
     ]
    },
    {
     "name": "stderr",
     "output_type": "stream",
     "text": [
      "Processing:  61%|████████████████████████████████████████▋                          | 607/1000 [01:51<01:46,  3.70it/s]"
     ]
    },
    {
     "name": "stdout",
     "output_type": "stream",
     "text": [
      "Sample 605: Invalid features (num_cells=0)\n",
      "Sample 606: Invalid features (num_cells=0)\n",
      "Sample 607: Invalid features (num_cells=0)\n"
     ]
    },
    {
     "name": "stderr",
     "output_type": "stream",
     "text": [
      "Processing:  61%|████████████████████████████████████████▊                          | 610/1000 [01:52<01:17,  5.06it/s]"
     ]
    },
    {
     "name": "stdout",
     "output_type": "stream",
     "text": [
      "Sample 608: Invalid features (num_cells=0)\n",
      "Sample 609: Invalid features (num_cells=0)\n"
     ]
    },
    {
     "name": "stderr",
     "output_type": "stream",
     "text": [
      "Processing:  61%|█████████████████████████████████████████                          | 612/1000 [01:52<01:05,  5.90it/s]"
     ]
    },
    {
     "name": "stdout",
     "output_type": "stream",
     "text": [
      "Sample 610: Invalid features (num_cells=0)\n",
      "Sample 611: Invalid features (num_cells=0)\n"
     ]
    },
    {
     "name": "stderr",
     "output_type": "stream",
     "text": [
      "Processing:  62%|█████████████████████████████████████████▎                         | 616/1000 [01:53<00:52,  7.28it/s]"
     ]
    },
    {
     "name": "stdout",
     "output_type": "stream",
     "text": [
      "Sample 613: Invalid features (num_cells=0)\n",
      "Sample 614: Invalid features (num_cells=0)\n",
      "Sample 615: Invalid features (num_cells=0)\n"
     ]
    },
    {
     "name": "stderr",
     "output_type": "stream",
     "text": [
      "\r\n",
      "Processing:  62%|█████████████████████████████████████████▍                         | 618/1000 [01:53<00:51,  7.41it/s]"
     ]
    },
    {
     "name": "stdout",
     "output_type": "stream",
     "text": [
      "Sample 616: Invalid features (num_cells=0)\n",
      "Sample 617: Invalid features (num_cells=0)\n"
     ]
    },
    {
     "name": "stderr",
     "output_type": "stream",
     "text": [
      "Processing:  62%|█████████████████████████████████████████▌                         | 620/1000 [01:53<00:49,  7.72it/s]"
     ]
    },
    {
     "name": "stdout",
     "output_type": "stream",
     "text": [
      "Sample 618: Invalid features (num_cells=0)\n",
      "Sample 619: Invalid features (num_cells=0)\n"
     ]
    },
    {
     "name": "stderr",
     "output_type": "stream",
     "text": [
      "Processing:  62%|█████████████████████████████████████████▋                         | 623/1000 [01:53<00:41,  9.07it/s]"
     ]
    },
    {
     "name": "stdout",
     "output_type": "stream",
     "text": [
      "Sample 620: Invalid features (num_cells=0)\n",
      "Sample 621: Invalid features (num_cells=0)\n",
      "Sample 622: Invalid features (num_cells=0)\n"
     ]
    },
    {
     "name": "stderr",
     "output_type": "stream",
     "text": [
      "Processing:  63%|█████████████████████████████████████████▉                         | 626/1000 [01:54<01:03,  5.91it/s]"
     ]
    },
    {
     "name": "stdout",
     "output_type": "stream",
     "text": [
      "Sample 624: Invalid features (num_cells=0)\n",
      "Sample 625: Invalid features (num_cells=0)\n"
     ]
    },
    {
     "name": "stderr",
     "output_type": "stream",
     "text": [
      "Processing:  63%|██████████████████████████████████████████▏                        | 629/1000 [01:54<00:47,  7.87it/s]"
     ]
    },
    {
     "name": "stdout",
     "output_type": "stream",
     "text": [
      "Sample 626: Invalid features (num_cells=0)\n",
      "Sample 627: Invalid features (num_cells=0)\n",
      "Sample 628: Invalid features (num_cells=0)\n"
     ]
    },
    {
     "name": "stderr",
     "output_type": "stream",
     "text": [
      "Processing:  63%|██████████████████████████████████████████▎                        | 631/1000 [01:55<00:42,  8.62it/s]"
     ]
    },
    {
     "name": "stdout",
     "output_type": "stream",
     "text": [
      "Sample 629: Invalid features (num_cells=0)\n",
      "Sample 630: Invalid features (num_cells=0)\n"
     ]
    },
    {
     "name": "stderr",
     "output_type": "stream",
     "text": [
      "Processing:  63%|██████████████████████████████████████████▍                        | 634/1000 [01:55<00:44,  8.19it/s]"
     ]
    },
    {
     "name": "stdout",
     "output_type": "stream",
     "text": [
      "Sample 631: Invalid features (num_cells=0)\n",
      "Sample 632: Invalid features (num_cells=0)\n",
      "Sample 633: Invalid features (num_cells=0)\n"
     ]
    },
    {
     "name": "stderr",
     "output_type": "stream",
     "text": [
      "Processing:  64%|██████████████████████████████████████████▋                        | 637/1000 [01:55<00:40,  8.95it/s]"
     ]
    },
    {
     "name": "stdout",
     "output_type": "stream",
     "text": [
      "Sample 634: Invalid features (num_cells=0)\n",
      "Sample 635: Invalid features (num_cells=0)\n",
      "Sample 636: Invalid features (num_cells=0)\n"
     ]
    },
    {
     "name": "stderr",
     "output_type": "stream",
     "text": [
      "\r\n",
      "Processing:  64%|██████████████████████████████████████████▋                        | 638/1000 [01:55<00:39,  9.16it/s]"
     ]
    },
    {
     "name": "stdout",
     "output_type": "stream",
     "text": [
      "Sample 637: Invalid features (num_cells=0)\n"
     ]
    },
    {
     "name": "stderr",
     "output_type": "stream",
     "text": [
      "Processing:  64%|██████████████████████████████████████████▉                        | 641/1000 [01:56<01:16,  4.67it/s]"
     ]
    },
    {
     "name": "stdout",
     "output_type": "stream",
     "text": [
      "Sample 639: Invalid features (num_cells=0)\n",
      "Sample 640: Invalid features (num_cells=0)\n",
      "Sample 641: Invalid features (num_cells=0)\n"
     ]
    },
    {
     "name": "stderr",
     "output_type": "stream",
     "text": [
      "Processing:  64%|███████████████████████████████████████████▏                       | 644/1000 [01:57<01:10,  5.07it/s]"
     ]
    },
    {
     "name": "stdout",
     "output_type": "stream",
     "text": [
      "Sample 643: Invalid features (num_cells=0)\n"
     ]
    },
    {
     "name": "stderr",
     "output_type": "stream",
     "text": [
      "Processing:  65%|███████████████████████████████████████████▎                       | 646/1000 [02:04<08:00,  1.36s/it]"
     ]
    },
    {
     "name": "stdout",
     "output_type": "stream",
     "text": [
      "Sample 644: Invalid features (num_cells=0)\n",
      "Sample 645: Invalid features (num_cells=0)\n"
     ]
    },
    {
     "name": "stderr",
     "output_type": "stream",
     "text": [
      "\r\n",
      "Processing:  65%|███████████████████████████████████████████▎                       | 647/1000 [02:05<06:45,  1.15s/it]"
     ]
    },
    {
     "name": "stdout",
     "output_type": "stream",
     "text": [
      "Sample 647: Invalid features (num_cells=0)\n"
     ]
    },
    {
     "name": "stderr",
     "output_type": "stream",
     "text": [
      "Processing:  65%|███████████████████████████████████████████▌                       | 651/1000 [02:05<02:48,  2.07it/s]"
     ]
    },
    {
     "name": "stdout",
     "output_type": "stream",
     "text": [
      "Sample 649: Invalid features (num_cells=0)\n",
      "Sample 650: Invalid features (num_cells=0)\n"
     ]
    },
    {
     "name": "stderr",
     "output_type": "stream",
     "text": [
      "Processing:  65%|███████████████████████████████████████████▊                       | 654/1000 [02:06<01:38,  3.51it/s]"
     ]
    },
    {
     "name": "stdout",
     "output_type": "stream",
     "text": [
      "Sample 652: Invalid features (num_cells=0)\n",
      "Sample 653: Invalid features (num_cells=0)\n",
      "Sample 654: Invalid features (num_cells=0)\n"
     ]
    },
    {
     "name": "stderr",
     "output_type": "stream",
     "text": [
      "\r\n",
      "Processing:  66%|███████████████████████████████████████████▉                       | 656/1000 [02:06<01:10,  4.86it/s]"
     ]
    },
    {
     "name": "stdout",
     "output_type": "stream",
     "text": [
      "Sample 655: Invalid features (num_cells=0)\n",
      "Sample 656: Invalid features (num_cells=0)\n"
     ]
    },
    {
     "name": "stderr",
     "output_type": "stream",
     "text": [
      "\r\n",
      "Processing:  66%|████████████████████████████████████████████                       | 658/1000 [02:06<01:01,  5.53it/s]"
     ]
    },
    {
     "name": "stdout",
     "output_type": "stream",
     "text": [
      "Sample 657: Invalid features (num_cells=0)\n"
     ]
    },
    {
     "name": "stderr",
     "output_type": "stream",
     "text": [
      "Processing:  66%|████████████████████████████████████████████▏                      | 660/1000 [02:07<01:00,  5.59it/s]"
     ]
    },
    {
     "name": "stdout",
     "output_type": "stream",
     "text": [
      "Sample 658: Invalid features (num_cells=0)\n",
      "Sample 659: Invalid features (num_cells=0)\n"
     ]
    },
    {
     "name": "stderr",
     "output_type": "stream",
     "text": [
      "\r\n",
      "Processing:  66%|████████████████████████████████████████████▎                      | 662/1000 [02:07<00:48,  6.91it/s]"
     ]
    },
    {
     "name": "stdout",
     "output_type": "stream",
     "text": [
      "Sample 660: Invalid features (num_cells=0)\n",
      "Sample 661: Invalid features (num_cells=0)\n",
      "Sample 662: Invalid features (num_cells=0)\n"
     ]
    },
    {
     "name": "stderr",
     "output_type": "stream",
     "text": [
      "\r\n",
      "Processing:  66%|████████████████████████████████████████████▍                      | 664/1000 [02:07<00:41,  8.10it/s]"
     ]
    },
    {
     "name": "stdout",
     "output_type": "stream",
     "text": [
      "Sample 663: Invalid features (num_cells=0)\n"
     ]
    },
    {
     "name": "stderr",
     "output_type": "stream",
     "text": [
      "Processing:  67%|████████████████████████████████████████████▋                      | 667/1000 [02:08<00:58,  5.66it/s]"
     ]
    },
    {
     "name": "stdout",
     "output_type": "stream",
     "text": [
      "Sample 665: Invalid features (num_cells=0)\n",
      "Sample 666: Invalid features (num_cells=0)\n"
     ]
    },
    {
     "name": "stderr",
     "output_type": "stream",
     "text": [
      "\r\n",
      "Processing:  67%|████████████████████████████████████████████▊                      | 668/1000 [02:08<00:53,  6.23it/s]"
     ]
    },
    {
     "name": "stdout",
     "output_type": "stream",
     "text": [
      "Sample 667: Invalid features (num_cells=0)\n",
      "Sample 668: Invalid features (num_cells=0)\n"
     ]
    },
    {
     "name": "stderr",
     "output_type": "stream",
     "text": [
      "Processing:  67%|████████████████████████████████████████████▉                      | 671/1000 [02:08<00:53,  6.11it/s]"
     ]
    },
    {
     "name": "stdout",
     "output_type": "stream",
     "text": [
      "Sample 670: Invalid features (num_cells=0)\n",
      "Sample 671: Invalid features (num_cells=0)\n"
     ]
    },
    {
     "name": "stderr",
     "output_type": "stream",
     "text": [
      "Processing:  68%|█████████████████████████████████████████████▏                     | 675/1000 [02:09<00:46,  6.97it/s]"
     ]
    },
    {
     "name": "stdout",
     "output_type": "stream",
     "text": [
      "Sample 673: Invalid features (num_cells=0)\n",
      "Sample 674: Invalid features (num_cells=0)\n",
      "Sample 675: Invalid features (num_cells=0)\n"
     ]
    },
    {
     "name": "stderr",
     "output_type": "stream",
     "text": [
      "\r\n",
      "Processing:  68%|█████████████████████████████████████████████▎                     | 677/1000 [02:09<00:41,  7.86it/s]"
     ]
    },
    {
     "name": "stdout",
     "output_type": "stream",
     "text": [
      "Sample 676: Invalid features (num_cells=0)\n",
      "Sample 677: Invalid features (num_cells=0)\n"
     ]
    },
    {
     "name": "stderr",
     "output_type": "stream",
     "text": [
      "Processing:  68%|█████████████████████████████████████████████▌                     | 680/1000 [02:10<00:40,  7.96it/s]"
     ]
    },
    {
     "name": "stdout",
     "output_type": "stream",
     "text": [
      "Sample 678: Invalid features (num_cells=0)\n",
      "Sample 679: Invalid features (num_cells=0)\n"
     ]
    },
    {
     "name": "stderr",
     "output_type": "stream",
     "text": [
      "\r\n",
      "Processing:  68%|█████████████████████████████████████████████▋                     | 681/1000 [02:10<00:39,  8.13it/s]"
     ]
    },
    {
     "name": "stdout",
     "output_type": "stream",
     "text": [
      "Sample 680: Invalid features (num_cells=0)\n"
     ]
    },
    {
     "name": "stderr",
     "output_type": "stream",
     "text": [
      "Processing:  68%|█████████████████████████████████████████████▉                     | 685/1000 [02:12<02:02,  2.57it/s]"
     ]
    },
    {
     "name": "stdout",
     "output_type": "stream",
     "text": [
      "Sample 683: Invalid features (num_cells=0)\n",
      "Sample 684: Invalid features (num_cells=0)\n",
      "Sample 685: Invalid features (num_cells=0)\n"
     ]
    },
    {
     "name": "stderr",
     "output_type": "stream",
     "text": [
      "Processing:  69%|██████████████████████████████████████████████                     | 688/1000 [02:12<01:19,  3.94it/s]"
     ]
    },
    {
     "name": "stdout",
     "output_type": "stream",
     "text": [
      "Sample 686: Invalid features (num_cells=0)\n",
      "Sample 687: Invalid features (num_cells=0)\n"
     ]
    },
    {
     "name": "stderr",
     "output_type": "stream",
     "text": [
      "Processing:  69%|██████████████████████████████████████████████▏                    | 690/1000 [02:13<01:05,  4.76it/s]"
     ]
    },
    {
     "name": "stdout",
     "output_type": "stream",
     "text": [
      "Sample 688: Invalid features (num_cells=0)\n",
      "Sample 689: Invalid features (num_cells=0)\n"
     ]
    },
    {
     "name": "stderr",
     "output_type": "stream",
     "text": [
      "Processing:  69%|██████████████████████████████████████████████▎                    | 692/1000 [02:13<01:06,  4.65it/s]"
     ]
    },
    {
     "name": "stdout",
     "output_type": "stream",
     "text": [
      "Sample 691: Invalid features (num_cells=0)\n"
     ]
    },
    {
     "name": "stderr",
     "output_type": "stream",
     "text": [
      "Processing:  70%|██████████████████████████████████████████████▌                    | 695/1000 [02:14<00:52,  5.78it/s]"
     ]
    },
    {
     "name": "stdout",
     "output_type": "stream",
     "text": [
      "Sample 693: Invalid features (num_cells=0)\n",
      "Sample 694: Invalid features (num_cells=0)\n",
      "Sample 695: Invalid features (num_cells=0)\n"
     ]
    },
    {
     "name": "stderr",
     "output_type": "stream",
     "text": [
      "\r\n",
      "Processing:  70%|██████████████████████████████████████████████▋                    | 697/1000 [02:14<00:42,  7.17it/s]"
     ]
    },
    {
     "name": "stdout",
     "output_type": "stream",
     "text": [
      "Sample 696: Invalid features (num_cells=0)\n",
      "Sample 697: Invalid features (num_cells=0)\n"
     ]
    },
    {
     "name": "stderr",
     "output_type": "stream",
     "text": [
      "Processing:  70%|██████████████████████████████████████████████▉                    | 701/1000 [02:14<00:35,  8.33it/s]"
     ]
    },
    {
     "name": "stdout",
     "output_type": "stream",
     "text": [
      "Sample 698: Invalid features (num_cells=0)\n",
      "Sample 699: Invalid features (num_cells=0)\n",
      "Sample 700: Invalid features (num_cells=0)\n"
     ]
    },
    {
     "name": "stderr",
     "output_type": "stream",
     "text": [
      "\r\n",
      "Processing:  70%|███████████████████████████████████████████████                    | 703/1000 [02:15<00:31,  9.39it/s]"
     ]
    },
    {
     "name": "stdout",
     "output_type": "stream",
     "text": [
      "Sample 701: Invalid features (num_cells=0)\n",
      "Sample 702: Invalid features (num_cells=0)\n"
     ]
    },
    {
     "name": "stderr",
     "output_type": "stream",
     "text": [
      "\r\n",
      "Processing:  70%|███████████████████████████████████████████████▏                   | 705/1000 [02:15<00:34,  8.50it/s]"
     ]
    },
    {
     "name": "stdout",
     "output_type": "stream",
     "text": [
      "Sample 703: Invalid features (num_cells=0)\n",
      "Sample 704: Invalid features (num_cells=0)\n"
     ]
    },
    {
     "name": "stderr",
     "output_type": "stream",
     "text": [
      "Processing:  71%|███████████████████████████████████████████████▎                   | 707/1000 [02:15<00:36,  8.11it/s]"
     ]
    },
    {
     "name": "stdout",
     "output_type": "stream",
     "text": [
      "Sample 705: Invalid features (num_cells=0)\n",
      "Sample 706: Invalid features (num_cells=0)\n",
      "Sample 707: Invalid features (num_cells=0)\n"
     ]
    },
    {
     "name": "stderr",
     "output_type": "stream",
     "text": [
      "\r\n",
      "Processing:  71%|███████████████████████████████████████████████▌                   | 709/1000 [02:15<00:32,  9.07it/s]"
     ]
    },
    {
     "name": "stdout",
     "output_type": "stream",
     "text": [
      "Sample 708: Invalid features (num_cells=0)\n",
      "Sample 709: Invalid features (num_cells=0)\n"
     ]
    },
    {
     "name": "stderr",
     "output_type": "stream",
     "text": [
      "Processing:  71%|███████████████████████████████████████████████▊                   | 713/1000 [02:16<00:29,  9.84it/s]"
     ]
    },
    {
     "name": "stdout",
     "output_type": "stream",
     "text": [
      "Sample 710: Invalid features (num_cells=0)\n",
      "Sample 711: Invalid features (num_cells=0)\n",
      "Sample 712: Invalid features (num_cells=0)\n"
     ]
    },
    {
     "name": "stderr",
     "output_type": "stream",
     "text": [
      "\r\n",
      "Processing:  72%|███████████████████████████████████████████████▉                   | 715/1000 [02:16<00:30,  9.28it/s]"
     ]
    },
    {
     "name": "stdout",
     "output_type": "stream",
     "text": [
      "Sample 713: Invalid features (num_cells=0)\n",
      "Sample 714: Invalid features (num_cells=0)\n",
      "Sample 715: Invalid features (num_cells=0)\n"
     ]
    },
    {
     "name": "stderr",
     "output_type": "stream",
     "text": [
      "Processing:  72%|████████████████████████████████████████████████▏                  | 719/1000 [02:17<00:52,  5.34it/s]"
     ]
    },
    {
     "name": "stdout",
     "output_type": "stream",
     "text": [
      "Sample 717: Invalid features (num_cells=0)\n",
      "Sample 718: Invalid features (num_cells=0)\n",
      "Sample 719: Invalid features (num_cells=0)\n"
     ]
    },
    {
     "name": "stderr",
     "output_type": "stream",
     "text": [
      "Processing:  72%|████████████████████████████████████████████████▌                  | 724/1000 [02:18<00:47,  5.76it/s]"
     ]
    },
    {
     "name": "stdout",
     "output_type": "stream",
     "text": [
      "Sample 722: Invalid features (num_cells=0)\n",
      "Sample 723: Invalid features (num_cells=0)\n",
      "Sample 724: Invalid features (num_cells=0)\n"
     ]
    },
    {
     "name": "stderr",
     "output_type": "stream",
     "text": [
      "Processing:  73%|████████████████████████████████████████████████▋                  | 727/1000 [02:18<00:41,  6.53it/s]"
     ]
    },
    {
     "name": "stdout",
     "output_type": "stream",
     "text": [
      "Sample 725: Invalid features (num_cells=0)\n",
      "Sample 726: Invalid features (num_cells=0)\n"
     ]
    },
    {
     "name": "stderr",
     "output_type": "stream",
     "text": [
      "Processing:  73%|████████████████████████████████████████████████▊                  | 729/1000 [02:19<00:39,  6.91it/s]"
     ]
    },
    {
     "name": "stdout",
     "output_type": "stream",
     "text": [
      "Sample 727: Invalid features (num_cells=0)\n",
      "Sample 728: Invalid features (num_cells=0)\n",
      "Sample 729: Invalid features (num_cells=0)\n"
     ]
    },
    {
     "name": "stderr",
     "output_type": "stream",
     "text": [
      "Processing:  73%|█████████████████████████████████████████████████                  | 733/1000 [02:19<00:44,  5.96it/s]"
     ]
    },
    {
     "name": "stdout",
     "output_type": "stream",
     "text": [
      "Sample 731: Invalid features (num_cells=0)\n",
      "Sample 732: Invalid features (num_cells=0)\n"
     ]
    },
    {
     "name": "stderr",
     "output_type": "stream",
     "text": [
      "Processing:  74%|█████████████████████████████████████████████████▏                 | 735/1000 [02:20<00:39,  6.73it/s]"
     ]
    },
    {
     "name": "stdout",
     "output_type": "stream",
     "text": [
      "Sample 733: Invalid features (num_cells=0)\n",
      "Sample 734: Invalid features (num_cells=0)\n"
     ]
    },
    {
     "name": "stderr",
     "output_type": "stream",
     "text": [
      "Processing:  74%|█████████████████████████████████████████████████▍                 | 738/1000 [02:20<00:30,  8.48it/s]"
     ]
    },
    {
     "name": "stdout",
     "output_type": "stream",
     "text": [
      "Sample 735: Invalid features (num_cells=0)\n",
      "Sample 736: Invalid features (num_cells=0)\n",
      "Sample 737: Invalid features (num_cells=0)\n"
     ]
    },
    {
     "name": "stderr",
     "output_type": "stream",
     "text": [
      "\r\n",
      "Processing:  74%|█████████████████████████████████████████████████▌                 | 740/1000 [02:20<00:26,  9.92it/s]"
     ]
    },
    {
     "name": "stdout",
     "output_type": "stream",
     "text": [
      "Sample 738: Invalid features (num_cells=0)\n",
      "Sample 739: Invalid features (num_cells=0)\n",
      "Synthesis failed: No module declaration found in RTL code\n",
      "Sample 740: Invalid features (num_cells=0)\n",
      "Sample 741: Invalid features (num_cells=0)\n"
     ]
    },
    {
     "name": "stderr",
     "output_type": "stream",
     "text": [
      "Processing:  74%|█████████████████████████████████████████████████▉                 | 745/1000 [02:21<00:35,  7.23it/s]"
     ]
    },
    {
     "name": "stdout",
     "output_type": "stream",
     "text": [
      "Sample 743: Invalid features (num_cells=0)\n",
      "Sample 744: Invalid features (num_cells=0)\n"
     ]
    },
    {
     "name": "stderr",
     "output_type": "stream",
     "text": [
      "Processing:  75%|██████████████████████████████████████████████████                 | 747/1000 [02:21<00:38,  6.53it/s]"
     ]
    },
    {
     "name": "stdout",
     "output_type": "stream",
     "text": [
      "Sample 745: Invalid features (num_cells=0)\n",
      "Sample 746: Invalid features (num_cells=0)\n"
     ]
    },
    {
     "name": "stderr",
     "output_type": "stream",
     "text": [
      "Processing:  75%|██████████████████████████████████████████████████▏                | 749/1000 [02:21<00:40,  6.19it/s]"
     ]
    },
    {
     "name": "stdout",
     "output_type": "stream",
     "text": [
      "Sample 747: Invalid features (num_cells=0)\n",
      "Sample 748: Invalid features (num_cells=0)\n"
     ]
    },
    {
     "name": "stderr",
     "output_type": "stream",
     "text": [
      "Processing:  76%|██████████████████████████████████████████████████▌                | 755/1000 [02:23<00:36,  6.72it/s]"
     ]
    },
    {
     "name": "stdout",
     "output_type": "stream",
     "text": [
      "Sample 753: Invalid features (num_cells=0)\n",
      "Sample 754: Invalid features (num_cells=0)\n"
     ]
    },
    {
     "name": "stderr",
     "output_type": "stream",
     "text": [
      "Processing:  76%|██████████████████████████████████████████████████▉                | 760/1000 [02:23<00:33,  7.09it/s]"
     ]
    },
    {
     "name": "stdout",
     "output_type": "stream",
     "text": [
      "Sample 758: Invalid features (num_cells=0)\n",
      "Sample 759: Invalid features (num_cells=0)\n",
      "Sample 760: Invalid features (num_cells=0)\n"
     ]
    },
    {
     "name": "stderr",
     "output_type": "stream",
     "text": [
      "Processing:  76%|███████████████████████████████████████████████████▏               | 764/1000 [02:24<00:26,  9.05it/s]"
     ]
    },
    {
     "name": "stdout",
     "output_type": "stream",
     "text": [
      "Sample 761: Invalid features (num_cells=0)\n",
      "Sample 762: Invalid features (num_cells=0)\n",
      "Sample 763: Invalid features (num_cells=0)\n"
     ]
    },
    {
     "name": "stderr",
     "output_type": "stream",
     "text": [
      "Processing:  77%|███████████████████████████████████████████████████▍               | 767/1000 [02:24<00:24,  9.52it/s]"
     ]
    },
    {
     "name": "stdout",
     "output_type": "stream",
     "text": [
      "Sample 764: Invalid features (num_cells=0)\n",
      "Sample 765: Invalid features (num_cells=0)\n",
      "Sample 766: Invalid features (num_cells=0)\n",
      "Sample 767: Invalid features (num_cells=0)\n"
     ]
    },
    {
     "name": "stderr",
     "output_type": "stream",
     "text": [
      "Processing:  77%|███████████████████████████████████████████████████▋               | 772/1000 [02:25<00:26,  8.62it/s]"
     ]
    },
    {
     "name": "stdout",
     "output_type": "stream",
     "text": [
      "Sample 769: Invalid features (num_cells=0)\n",
      "Sample 770: Invalid features (num_cells=0)\n",
      "Sample 771: Invalid features (num_cells=0)\n"
     ]
    },
    {
     "name": "stderr",
     "output_type": "stream",
     "text": [
      "\r\n",
      "Processing:  77%|███████████████████████████████████████████████████▊               | 774/1000 [02:25<00:24,  9.25it/s]"
     ]
    },
    {
     "name": "stdout",
     "output_type": "stream",
     "text": [
      "Sample 772: Invalid features (num_cells=0)\n",
      "Sample 773: Invalid features (num_cells=0)\n"
     ]
    },
    {
     "name": "stderr",
     "output_type": "stream",
     "text": [
      "Processing:  78%|███████████████████████████████████████████████████▉               | 776/1000 [02:25<00:25,  8.62it/s]"
     ]
    },
    {
     "name": "stdout",
     "output_type": "stream",
     "text": [
      "Sample 774: Invalid features (num_cells=0)\n",
      "Sample 775: Invalid features (num_cells=0)\n"
     ]
    },
    {
     "name": "stderr",
     "output_type": "stream",
     "text": [
      "\r\n",
      "Processing:  78%|████████████████████████████████████████████████████▏              | 778/1000 [02:25<00:25,  8.75it/s]"
     ]
    },
    {
     "name": "stdout",
     "output_type": "stream",
     "text": [
      "Sample 776: Invalid features (num_cells=0)\n",
      "Sample 777: Invalid features (num_cells=0)\n"
     ]
    },
    {
     "name": "stderr",
     "output_type": "stream",
     "text": [
      "\r\n",
      "Processing:  78%|████████████████████████████████████████████████████▏              | 779/1000 [02:25<00:24,  8.95it/s]"
     ]
    },
    {
     "name": "stdout",
     "output_type": "stream",
     "text": [
      "Sample 778: Invalid features (num_cells=0)\n"
     ]
    },
    {
     "name": "stderr",
     "output_type": "stream",
     "text": [
      "Processing:  78%|████████████████████████████████████████████████████▍              | 783/1000 [02:26<00:34,  6.20it/s]"
     ]
    },
    {
     "name": "stdout",
     "output_type": "stream",
     "text": [
      "Sample 781: Invalid features (num_cells=0)\n",
      "Sample 782: Invalid features (num_cells=0)\n"
     ]
    },
    {
     "name": "stderr",
     "output_type": "stream",
     "text": [
      "\r\n",
      "Processing:  78%|████████████████████████████████████████████████████▌              | 785/1000 [02:26<00:28,  7.65it/s]"
     ]
    },
    {
     "name": "stdout",
     "output_type": "stream",
     "text": [
      "Sample 783: Invalid features (num_cells=0)\n",
      "Sample 784: Invalid features (num_cells=0)\n",
      "Sample 785: Invalid features (num_cells=0)\n"
     ]
    },
    {
     "name": "stderr",
     "output_type": "stream",
     "text": [
      "\r\n",
      "Processing:  79%|████████████████████████████████████████████████████▋              | 787/1000 [02:27<00:24,  8.72it/s]"
     ]
    },
    {
     "name": "stdout",
     "output_type": "stream",
     "text": [
      "Sample 786: Invalid features (num_cells=0)\n",
      "Sample 787: Invalid features (num_cells=0)\n"
     ]
    },
    {
     "name": "stderr",
     "output_type": "stream",
     "text": [
      "\r\n",
      "Processing:  79%|████████████████████████████████████████████████████▊              | 789/1000 [02:27<00:23,  8.85it/s]"
     ]
    },
    {
     "name": "stdout",
     "output_type": "stream",
     "text": [
      "Sample 788: Invalid features (num_cells=0)\n",
      "Sample 789: Invalid features (num_cells=0)\n"
     ]
    },
    {
     "name": "stderr",
     "output_type": "stream",
     "text": [
      "Processing:  79%|█████████████████████████████████████████████████████▏             | 793/1000 [02:28<00:29,  6.91it/s]"
     ]
    },
    {
     "name": "stdout",
     "output_type": "stream",
     "text": [
      "Sample 791: Invalid features (num_cells=0)\n",
      "Sample 792: Invalid features (num_cells=0)\n"
     ]
    },
    {
     "name": "stderr",
     "output_type": "stream",
     "text": [
      "Processing:  80%|█████████████████████████████████████████████████████▎             | 796/1000 [02:36<03:55,  1.16s/it]"
     ]
    },
    {
     "name": "stdout",
     "output_type": "stream",
     "text": [
      "Sample 795: Invalid features (num_cells=0)\n"
     ]
    },
    {
     "name": "stderr",
     "output_type": "stream",
     "text": [
      "Processing:  80%|█████████████████████████████████████████████████████▌             | 799/1000 [02:36<01:50,  1.83it/s]"
     ]
    },
    {
     "name": "stdout",
     "output_type": "stream",
     "text": [
      "Sample 797: Invalid features (num_cells=0)\n",
      "Sample 798: Invalid features (num_cells=0)\n",
      "Sample 799: Invalid features (num_cells=0)\n"
     ]
    },
    {
     "name": "stderr",
     "output_type": "stream",
     "text": [
      "Processing:  80%|█████████████████████████████████████████████████████▊             | 803/1000 [02:36<00:53,  3.67it/s]"
     ]
    },
    {
     "name": "stdout",
     "output_type": "stream",
     "text": [
      "Sample 800: Invalid features (num_cells=0)\n",
      "Sample 801: Invalid features (num_cells=0)\n",
      "Sample 802: Invalid features (num_cells=0)\n"
     ]
    },
    {
     "name": "stderr",
     "output_type": "stream",
     "text": [
      "Processing:  81%|██████████████████████████████████████████████████████             | 806/1000 [02:37<00:40,  4.77it/s]"
     ]
    },
    {
     "name": "stdout",
     "output_type": "stream",
     "text": [
      "Sample 804: Invalid features (num_cells=0)\n",
      "Sample 805: Invalid features (num_cells=0)\n"
     ]
    },
    {
     "name": "stderr",
     "output_type": "stream",
     "text": [
      "Processing:  81%|██████████████████████████████████████████████████████▏            | 809/1000 [02:37<00:28,  6.63it/s]"
     ]
    },
    {
     "name": "stdout",
     "output_type": "stream",
     "text": [
      "Sample 806: Invalid features (num_cells=0)\n",
      "Sample 807: Invalid features (num_cells=0)\n",
      "Sample 808: Invalid features (num_cells=0)\n"
     ]
    },
    {
     "name": "stderr",
     "output_type": "stream",
     "text": [
      "Processing:  81%|██████████████████████████████████████████████████████▍            | 812/1000 [02:38<00:36,  5.19it/s]"
     ]
    },
    {
     "name": "stdout",
     "output_type": "stream",
     "text": [
      "Sample 810: Invalid features (num_cells=0)\n",
      "Sample 811: Invalid features (num_cells=0)\n"
     ]
    },
    {
     "name": "stderr",
     "output_type": "stream",
     "text": [
      "Processing:  82%|██████████████████████████████████████████████████████▋            | 816/1000 [02:38<00:21,  8.58it/s]"
     ]
    },
    {
     "name": "stdout",
     "output_type": "stream",
     "text": [
      "Sample 812: Invalid features (num_cells=0)\n",
      "Synthesis failed: No module declaration found in RTL code\n",
      "Sample 813: Invalid features (num_cells=0)\n",
      "Sample 814: Invalid features (num_cells=0)\n",
      "Sample 815: Invalid features (num_cells=0)\n",
      "Synthesis failed: No module declaration found in RTL code\n",
      "Sample 816: Invalid features (num_cells=0)\n"
     ]
    },
    {
     "name": "stderr",
     "output_type": "stream",
     "text": [
      "\r\n",
      "Processing:  82%|██████████████████████████████████████████████████████▊            | 818/1000 [02:39<00:28,  6.38it/s]"
     ]
    },
    {
     "name": "stdout",
     "output_type": "stream",
     "text": [
      "Sample 818: Invalid features (num_cells=0)\n"
     ]
    },
    {
     "name": "stderr",
     "output_type": "stream",
     "text": [
      "Processing:  82%|███████████████████████████████████████████████████████            | 822/1000 [02:42<01:19,  2.23it/s]"
     ]
    },
    {
     "name": "stdout",
     "output_type": "stream",
     "text": [
      "Sample 820: Invalid features (num_cells=0)\n",
      "Sample 821: Invalid features (num_cells=0)\n"
     ]
    },
    {
     "name": "stderr",
     "output_type": "stream",
     "text": [
      "\r\n",
      "Processing:  82%|███████████████████████████████████████████████████████▏           | 823/1000 [02:42<01:05,  2.69it/s]"
     ]
    },
    {
     "name": "stdout",
     "output_type": "stream",
     "text": [
      "Sample 822: Invalid features (num_cells=0)\n",
      "Sample 823: Invalid features (num_cells=0)\n"
     ]
    },
    {
     "name": "stderr",
     "output_type": "stream",
     "text": [
      "Processing:  83%|███████████████████████████████████████████████████████▎           | 826/1000 [02:43<00:40,  4.27it/s]"
     ]
    },
    {
     "name": "stdout",
     "output_type": "stream",
     "text": [
      "Sample 824: Invalid features (num_cells=0)\n",
      "Sample 825: Invalid features (num_cells=0)\n",
      "Sample 826: Invalid features (num_cells=0)\n"
     ]
    },
    {
     "name": "stderr",
     "output_type": "stream",
     "text": [
      "Processing:  83%|███████████████████████████████████████████████████████▌           | 829/1000 [02:43<00:28,  6.01it/s]"
     ]
    },
    {
     "name": "stdout",
     "output_type": "stream",
     "text": [
      "Sample 827: Invalid features (num_cells=0)\n",
      "Sample 828: Invalid features (num_cells=0)\n"
     ]
    },
    {
     "name": "stderr",
     "output_type": "stream",
     "text": [
      "Processing:  83%|███████████████████████████████████████████████████████▋           | 831/1000 [02:44<00:33,  5.01it/s]"
     ]
    },
    {
     "name": "stdout",
     "output_type": "stream",
     "text": [
      "Sample 830: Invalid features (num_cells=0)\n"
     ]
    },
    {
     "name": "stderr",
     "output_type": "stream",
     "text": [
      "\r\n",
      "Processing:  83%|███████████████████████████████████████████████████████▋           | 832/1000 [02:44<00:38,  4.38it/s]"
     ]
    },
    {
     "name": "stdout",
     "output_type": "stream",
     "text": [
      "Sample 832: Invalid features (num_cells=0)\n"
     ]
    },
    {
     "name": "stderr",
     "output_type": "stream",
     "text": [
      "Processing:  84%|████████████████████████████████████████████████████████           | 836/1000 [02:45<00:33,  4.96it/s]"
     ]
    },
    {
     "name": "stdout",
     "output_type": "stream",
     "text": [
      "Sample 834: Invalid features (num_cells=0)\n",
      "Sample 835: Invalid features (num_cells=0)\n",
      "Sample 836: Invalid features (num_cells=0)\n"
     ]
    },
    {
     "name": "stderr",
     "output_type": "stream",
     "text": [
      "Processing:  84%|████████████████████████████████████████████████████████▏          | 839/1000 [02:45<00:27,  5.87it/s]"
     ]
    },
    {
     "name": "stdout",
     "output_type": "stream",
     "text": [
      "Sample 837: Invalid features (num_cells=0)\n",
      "Sample 838: Invalid features (num_cells=0)\n"
     ]
    },
    {
     "name": "stderr",
     "output_type": "stream",
     "text": [
      "\r\n",
      "Processing:  84%|████████████████████████████████████████████████████████▎          | 840/1000 [02:45<00:24,  6.47it/s]"
     ]
    },
    {
     "name": "stdout",
     "output_type": "stream",
     "text": [
      "Sample 839: Invalid features (num_cells=0)\n"
     ]
    },
    {
     "name": "stderr",
     "output_type": "stream",
     "text": [
      "Processing:  84%|████████████████████████████████████████████████████████▌          | 844/1000 [02:46<00:19,  8.12it/s]"
     ]
    },
    {
     "name": "stdout",
     "output_type": "stream",
     "text": [
      "Sample 841: Invalid features (num_cells=0)\n",
      "Sample 842: Invalid features (num_cells=0)\n",
      "Sample 843: Invalid features (num_cells=0)\n"
     ]
    },
    {
     "name": "stderr",
     "output_type": "stream",
     "text": [
      "Processing:  85%|████████████████████████████████████████████████████████▋          | 846/1000 [02:46<00:19,  7.97it/s]"
     ]
    },
    {
     "name": "stdout",
     "output_type": "stream",
     "text": [
      "Sample 844: Invalid features (num_cells=0)\n",
      "Sample 845: Invalid features (num_cells=0)\n"
     ]
    },
    {
     "name": "stderr",
     "output_type": "stream",
     "text": [
      "\r\n",
      "Processing:  85%|████████████████████████████████████████████████████████▊          | 848/1000 [02:46<00:17,  8.62it/s]"
     ]
    },
    {
     "name": "stdout",
     "output_type": "stream",
     "text": [
      "Sample 846: Invalid features (num_cells=0)\n",
      "Sample 847: Invalid features (num_cells=0)\n"
     ]
    },
    {
     "name": "stderr",
     "output_type": "stream",
     "text": [
      "Processing:  85%|█████████████████████████████████████████████████████████          | 851/1000 [02:47<00:18,  8.14it/s]"
     ]
    },
    {
     "name": "stdout",
     "output_type": "stream",
     "text": [
      "Sample 849: Invalid features (num_cells=0)\n",
      "Sample 850: Invalid features (num_cells=0)\n",
      "Sample 851: Invalid features (num_cells=0)\n"
     ]
    },
    {
     "name": "stderr",
     "output_type": "stream",
     "text": [
      "Processing:  86%|█████████████████████████████████████████████████████████▎         | 855/1000 [02:47<00:14,  9.91it/s]"
     ]
    },
    {
     "name": "stdout",
     "output_type": "stream",
     "text": [
      "Sample 852: Invalid features (num_cells=0)\n",
      "Sample 853: Invalid features (num_cells=0)\n",
      "Sample 854: Invalid features (num_cells=0)\n"
     ]
    },
    {
     "name": "stderr",
     "output_type": "stream",
     "text": [
      "Processing:  86%|█████████████████████████████████████████████████████████▌         | 860/1000 [02:48<00:29,  4.77it/s]"
     ]
    },
    {
     "name": "stdout",
     "output_type": "stream",
     "text": [
      "Sample 860: Invalid features (num_cells=0)\n"
     ]
    },
    {
     "name": "stderr",
     "output_type": "stream",
     "text": [
      "\r\n",
      "Processing:  86%|█████████████████████████████████████████████████████████▊         | 862/1000 [02:49<00:25,  5.35it/s]"
     ]
    },
    {
     "name": "stdout",
     "output_type": "stream",
     "text": [
      "Sample 861: Invalid features (num_cells=0)\n",
      "Sample 862: Invalid features (num_cells=0)\n"
     ]
    },
    {
     "name": "stderr",
     "output_type": "stream",
     "text": [
      "Processing:  87%|██████████████████████████████████████████████████████████         | 867/1000 [02:50<00:27,  4.91it/s]"
     ]
    },
    {
     "name": "stdout",
     "output_type": "stream",
     "text": [
      "Sample 865: Invalid features (num_cells=0)\n",
      "Sample 866: Invalid features (num_cells=0)\n",
      "Sample 867: Invalid features (num_cells=0)\n"
     ]
    },
    {
     "name": "stderr",
     "output_type": "stream",
     "text": [
      "Processing:  87%|██████████████████████████████████████████████████████████▎        | 871/1000 [02:50<00:18,  7.09it/s]"
     ]
    },
    {
     "name": "stdout",
     "output_type": "stream",
     "text": [
      "Sample 868: Invalid features (num_cells=0)\n",
      "Sample 869: Invalid features (num_cells=0)\n",
      "Sample 870: Invalid features (num_cells=0)\n"
     ]
    },
    {
     "name": "stderr",
     "output_type": "stream",
     "text": [
      "\r\n",
      "Processing:  87%|██████████████████████████████████████████████████████████▍        | 873/1000 [02:50<00:15,  8.13it/s]"
     ]
    },
    {
     "name": "stdout",
     "output_type": "stream",
     "text": [
      "Sample 871: Invalid features (num_cells=0)\n",
      "Sample 872: Invalid features (num_cells=0)\n",
      "Sample 873: Invalid features (num_cells=0)\n"
     ]
    },
    {
     "name": "stderr",
     "output_type": "stream",
     "text": [
      "\r\n",
      "Processing:  88%|██████████████████████████████████████████████████████████▋        | 875/1000 [02:51<00:13,  9.08it/s]"
     ]
    },
    {
     "name": "stdout",
     "output_type": "stream",
     "text": [
      "Sample 874: Invalid features (num_cells=0)\n",
      "Sample 875: Invalid features (num_cells=0)\n"
     ]
    },
    {
     "name": "stderr",
     "output_type": "stream",
     "text": [
      "\r\n",
      "Processing:  88%|██████████████████████████████████████████████████████████▊        | 877/1000 [02:51<00:13,  9.18it/s]"
     ]
    },
    {
     "name": "stdout",
     "output_type": "stream",
     "text": [
      "Sample 876: Invalid features (num_cells=0)\n",
      "Sample 877: Invalid features (num_cells=0)\n"
     ]
    },
    {
     "name": "stderr",
     "output_type": "stream",
     "text": [
      "Processing:  88%|██████████████████████████████████████████████████████████▉        | 880/1000 [02:51<00:17,  6.77it/s]"
     ]
    },
    {
     "name": "stdout",
     "output_type": "stream",
     "text": [
      "Sample 879: Invalid features (num_cells=0)\n"
     ]
    },
    {
     "name": "stderr",
     "output_type": "stream",
     "text": [
      "Processing:  88%|███████████████████████████████████████████████████████████▏       | 883/1000 [02:52<00:17,  6.83it/s]"
     ]
    },
    {
     "name": "stdout",
     "output_type": "stream",
     "text": [
      "Sample 881: Invalid features (num_cells=0)\n",
      "Sample 882: Invalid features (num_cells=0)\n"
     ]
    },
    {
     "name": "stderr",
     "output_type": "stream",
     "text": [
      "Processing:  89%|███████████████████████████████████████████████████████████▎       | 886/1000 [02:52<00:13,  8.32it/s]"
     ]
    },
    {
     "name": "stdout",
     "output_type": "stream",
     "text": [
      "Sample 883: Invalid features (num_cells=0)\n",
      "Sample 884: Invalid features (num_cells=0)\n",
      "Sample 885: Invalid features (num_cells=0)\n"
     ]
    },
    {
     "name": "stderr",
     "output_type": "stream",
     "text": [
      "Processing:  89%|███████████████████████████████████████████████████████████▍       | 888/1000 [02:53<00:14,  7.84it/s]"
     ]
    },
    {
     "name": "stdout",
     "output_type": "stream",
     "text": [
      "Sample 886: Invalid features (num_cells=0)\n",
      "Sample 887: Invalid features (num_cells=0)\n"
     ]
    },
    {
     "name": "stderr",
     "output_type": "stream",
     "text": [
      "Processing:  89%|███████████████████████████████████████████████████████████▋       | 890/1000 [02:53<00:13,  8.44it/s]"
     ]
    },
    {
     "name": "stdout",
     "output_type": "stream",
     "text": [
      "Sample 888: Invalid features (num_cells=0)\n",
      "Sample 889: Invalid features (num_cells=0)\n"
     ]
    },
    {
     "name": "stderr",
     "output_type": "stream",
     "text": [
      "Processing:  89%|███████████████████████████████████████████████████████████▉       | 894/1000 [02:54<00:17,  5.95it/s]"
     ]
    },
    {
     "name": "stdout",
     "output_type": "stream",
     "text": [
      "Sample 892: Invalid features (num_cells=0)\n",
      "Sample 893: Invalid features (num_cells=0)\n"
     ]
    },
    {
     "name": "stderr",
     "output_type": "stream",
     "text": [
      "\r\n",
      "Processing:  90%|████████████████████████████████████████████████████████████       | 896/1000 [02:54<00:13,  7.77it/s]"
     ]
    },
    {
     "name": "stdout",
     "output_type": "stream",
     "text": [
      "Sample 894: Invalid features (num_cells=0)\n",
      "Sample 895: Invalid features (num_cells=0)\n",
      "Sample 896: Invalid features (num_cells=0)\n",
      "Synthesis failed: No module declaration found in RTL code\n",
      "Sample 897: Invalid features (num_cells=0)\n"
     ]
    },
    {
     "name": "stderr",
     "output_type": "stream",
     "text": [
      "Processing:  90%|████████████████████████████████████████████████████████████▎      | 900/1000 [02:54<00:10,  9.14it/s]"
     ]
    },
    {
     "name": "stdout",
     "output_type": "stream",
     "text": [
      "Sample 898: Invalid features (num_cells=0)\n",
      "Sample 899: Invalid features (num_cells=0)\n",
      "Sample 900: Invalid features (num_cells=0)\n"
     ]
    },
    {
     "name": "stderr",
     "output_type": "stream",
     "text": [
      "Processing:  90%|████████████████████████████████████████████████████████████▋      | 905/1000 [02:55<00:11,  8.03it/s]"
     ]
    },
    {
     "name": "stdout",
     "output_type": "stream",
     "text": [
      "Sample 902: Invalid features (num_cells=0)\n",
      "Sample 903: Invalid features (num_cells=0)\n",
      "Sample 904: Invalid features (num_cells=0)\n"
     ]
    },
    {
     "name": "stderr",
     "output_type": "stream",
     "text": [
      "Processing:  91%|████████████████████████████████████████████████████████████▊      | 907/1000 [02:55<00:11,  8.11it/s]"
     ]
    },
    {
     "name": "stdout",
     "output_type": "stream",
     "text": [
      "Sample 905: Invalid features (num_cells=0)\n",
      "Sample 906: Invalid features (num_cells=0)\n"
     ]
    },
    {
     "name": "stderr",
     "output_type": "stream",
     "text": [
      "\r\n",
      "Processing:  91%|████████████████████████████████████████████████████████████▊      | 908/1000 [02:55<00:10,  8.46it/s]"
     ]
    },
    {
     "name": "stdout",
     "output_type": "stream",
     "text": [
      "Sample 907: Invalid features (num_cells=0)\n"
     ]
    },
    {
     "name": "stderr",
     "output_type": "stream",
     "text": [
      "Processing:  91%|█████████████████████████████████████████████████████████████      | 912/1000 [02:56<00:13,  6.56it/s]"
     ]
    },
    {
     "name": "stdout",
     "output_type": "stream",
     "text": [
      "Sample 909: Invalid features (num_cells=0)\n",
      "Sample 910: Invalid features (num_cells=0)\n",
      "Sample 911: Invalid features (num_cells=0)\n"
     ]
    },
    {
     "name": "stderr",
     "output_type": "stream",
     "text": [
      "\r\n",
      "Processing:  91%|█████████████████████████████████████████████████████████████▏     | 914/1000 [02:56<00:10,  7.97it/s]"
     ]
    },
    {
     "name": "stdout",
     "output_type": "stream",
     "text": [
      "Sample 912: Invalid features (num_cells=0)\n",
      "Sample 913: Invalid features (num_cells=0)\n"
     ]
    },
    {
     "name": "stderr",
     "output_type": "stream",
     "text": [
      "Processing:  92%|█████████████████████████████████████████████████████████████▍     | 917/1000 [02:57<00:13,  6.05it/s]"
     ]
    },
    {
     "name": "stdout",
     "output_type": "stream",
     "text": [
      "Sample 915: Invalid features (num_cells=0)\n",
      "Sample 916: Invalid features (num_cells=0)\n"
     ]
    },
    {
     "name": "stderr",
     "output_type": "stream",
     "text": [
      "\r\n",
      "Processing:  92%|█████████████████████████████████████████████████████████████▌     | 919/1000 [02:57<00:11,  6.99it/s]"
     ]
    },
    {
     "name": "stdout",
     "output_type": "stream",
     "text": [
      "Sample 917: Invalid features (num_cells=0)\n",
      "Sample 918: Invalid features (num_cells=0)\n"
     ]
    },
    {
     "name": "stderr",
     "output_type": "stream",
     "text": [
      "\r\n",
      "Processing:  92%|█████████████████████████████████████████████████████████████▋     | 921/1000 [02:57<00:09,  8.37it/s]"
     ]
    },
    {
     "name": "stdout",
     "output_type": "stream",
     "text": [
      "Sample 919: Invalid features (num_cells=0)\n",
      "Sample 920: Invalid features (num_cells=0)\n"
     ]
    },
    {
     "name": "stderr",
     "output_type": "stream",
     "text": [
      "Processing:  92%|█████████████████████████████████████████████████████████████▊     | 923/1000 [02:58<00:09,  7.99it/s]"
     ]
    },
    {
     "name": "stdout",
     "output_type": "stream",
     "text": [
      "Sample 921: Invalid features (num_cells=0)\n",
      "Sample 922: Invalid features (num_cells=0)\n"
     ]
    },
    {
     "name": "stderr",
     "output_type": "stream",
     "text": [
      "Processing:  92%|█████████████████████████████████████████████████████████████▉     | 925/1000 [02:58<00:09,  7.70it/s]"
     ]
    },
    {
     "name": "stdout",
     "output_type": "stream",
     "text": [
      "Sample 923: Invalid features (num_cells=0)\n",
      "Sample 924: Invalid features (num_cells=0)\n"
     ]
    },
    {
     "name": "stderr",
     "output_type": "stream",
     "text": [
      "Processing:  93%|██████████████████████████████████████████████████████████████▏    | 928/1000 [02:58<00:06, 10.38it/s]"
     ]
    },
    {
     "name": "stdout",
     "output_type": "stream",
     "text": [
      "Sample 925: Invalid features (num_cells=0)\n",
      "Synthesis failed: No module declaration found in RTL code\n",
      "Sample 926: Invalid features (num_cells=0)\n",
      "Sample 927: Invalid features (num_cells=0)\n"
     ]
    },
    {
     "name": "stderr",
     "output_type": "stream",
     "text": [
      "Processing:  93%|██████████████████████████████████████████████████████████████▍    | 932/1000 [02:59<00:09,  7.42it/s]"
     ]
    },
    {
     "name": "stdout",
     "output_type": "stream",
     "text": [
      "Sample 929: Invalid features (num_cells=0)\n",
      "Sample 930: Invalid features (num_cells=0)\n",
      "Sample 931: Invalid features (num_cells=0)\n"
     ]
    },
    {
     "name": "stderr",
     "output_type": "stream",
     "text": [
      "\r\n",
      "Processing:  93%|██████████████████████████████████████████████████████████████▌    | 933/1000 [02:59<00:08,  7.71it/s]"
     ]
    },
    {
     "name": "stdout",
     "output_type": "stream",
     "text": [
      "Sample 932: Invalid features (num_cells=0)\n",
      "Sample 933: Invalid features (num_cells=0)\n"
     ]
    },
    {
     "name": "stderr",
     "output_type": "stream",
     "text": [
      "Processing:  94%|██████████████████████████████████████████████████████████████▋    | 936/1000 [02:59<00:07,  8.52it/s]"
     ]
    },
    {
     "name": "stdout",
     "output_type": "stream",
     "text": [
      "Sample 934: Invalid features (num_cells=0)\n",
      "Sample 935: Invalid features (num_cells=0)\n",
      "Sample 936: Invalid features (num_cells=0)\n"
     ]
    },
    {
     "name": "stderr",
     "output_type": "stream",
     "text": [
      "Processing:  94%|██████████████████████████████████████████████████████████████▉    | 940/1000 [03:00<00:08,  6.74it/s]"
     ]
    },
    {
     "name": "stdout",
     "output_type": "stream",
     "text": [
      "Sample 939: Invalid features (num_cells=0)\n",
      "Sample 940: Invalid features (num_cells=0)\n"
     ]
    },
    {
     "name": "stderr",
     "output_type": "stream",
     "text": [
      "Processing:  94%|███████████████████████████████████████████████████████████████▏   | 944/1000 [03:00<00:06,  8.47it/s]"
     ]
    },
    {
     "name": "stdout",
     "output_type": "stream",
     "text": [
      "Sample 941: Invalid features (num_cells=0)\n",
      "Sample 942: Invalid features (num_cells=0)\n",
      "Sample 943: Invalid features (num_cells=0)\n",
      "Sample 944: Invalid features (num_cells=0)\n"
     ]
    },
    {
     "name": "stderr",
     "output_type": "stream",
     "text": [
      "Processing:  95%|███████████████████████████████████████████████████████████████▌   | 948/1000 [03:01<00:07,  7.20it/s]"
     ]
    },
    {
     "name": "stdout",
     "output_type": "stream",
     "text": [
      "Sample 946: Invalid features (num_cells=0)\n",
      "Sample 947: Invalid features (num_cells=0)\n",
      "Sample 948: Invalid features (num_cells=0)\n"
     ]
    },
    {
     "name": "stderr",
     "output_type": "stream",
     "text": [
      "Processing:  95%|███████████████████████████████████████████████████████████████▋   | 951/1000 [03:01<00:06,  7.27it/s]"
     ]
    },
    {
     "name": "stdout",
     "output_type": "stream",
     "text": [
      "Sample 949: Invalid features (num_cells=0)\n",
      "Sample 950: Invalid features (num_cells=0)\n",
      "Sample 951: Invalid features (num_cells=0)\n"
     ]
    },
    {
     "name": "stderr",
     "output_type": "stream",
     "text": [
      "Processing:  96%|███████████████████████████████████████████████████████████████▉   | 955/1000 [03:02<00:06,  7.06it/s]"
     ]
    },
    {
     "name": "stdout",
     "output_type": "stream",
     "text": [
      "Sample 953: Invalid features (num_cells=0)\n",
      "Sample 954: Invalid features (num_cells=0)\n"
     ]
    },
    {
     "name": "stderr",
     "output_type": "stream",
     "text": [
      "Processing:  96%|████████████████████████████████████████████████████████████████   | 957/1000 [03:02<00:05,  7.99it/s]"
     ]
    },
    {
     "name": "stdout",
     "output_type": "stream",
     "text": [
      "Sample 955: Invalid features (num_cells=0)\n",
      "Sample 956: Invalid features (num_cells=0)\n"
     ]
    },
    {
     "name": "stderr",
     "output_type": "stream",
     "text": [
      "\r\n",
      "Processing:  96%|████████████████████████████████████████████████████████████████▏  | 958/1000 [03:02<00:07,  5.99it/s]"
     ]
    },
    {
     "name": "stdout",
     "output_type": "stream",
     "text": [
      "Sample 958: Invalid features (num_cells=0)\n"
     ]
    },
    {
     "name": "stderr",
     "output_type": "stream",
     "text": [
      "Processing:  96%|████████████████████████████████████████████████████████████████▌  | 964/1000 [03:04<00:06,  5.42it/s]"
     ]
    },
    {
     "name": "stdout",
     "output_type": "stream",
     "text": [
      "Sample 962: Invalid features (num_cells=0)\n",
      "Sample 963: Invalid features (num_cells=0)\n"
     ]
    },
    {
     "name": "stderr",
     "output_type": "stream",
     "text": [
      "Processing:  97%|████████████████████████████████████████████████████████████████▋  | 966/1000 [03:04<00:05,  6.25it/s]"
     ]
    },
    {
     "name": "stdout",
     "output_type": "stream",
     "text": [
      "Sample 964: Invalid features (num_cells=0)\n",
      "Sample 965: Invalid features (num_cells=0)\n"
     ]
    },
    {
     "name": "stderr",
     "output_type": "stream",
     "text": [
      "Processing:  97%|████████████████████████████████████████████████████████████████▊  | 968/1000 [03:04<00:04,  7.19it/s]"
     ]
    },
    {
     "name": "stdout",
     "output_type": "stream",
     "text": [
      "Sample 966: Invalid features (num_cells=0)\n",
      "Sample 967: Invalid features (num_cells=0)\n"
     ]
    },
    {
     "name": "stderr",
     "output_type": "stream",
     "text": [
      "Processing:  97%|█████████████████████████████████████████████████████████████████  | 971/1000 [03:05<00:04,  6.68it/s]"
     ]
    },
    {
     "name": "stdout",
     "output_type": "stream",
     "text": [
      "Sample 969: Invalid features (num_cells=0)\n",
      "Sample 970: Invalid features (num_cells=0)\n"
     ]
    },
    {
     "name": "stderr",
     "output_type": "stream",
     "text": [
      "Processing:  97%|█████████████████████████████████████████████████████████████████▎ | 974/1000 [03:05<00:02,  8.73it/s]"
     ]
    },
    {
     "name": "stdout",
     "output_type": "stream",
     "text": [
      "Sample 971: Invalid features (num_cells=0)\n",
      "Sample 972: Invalid features (num_cells=0)\n",
      "Sample 973: Invalid features (num_cells=0)\n"
     ]
    },
    {
     "name": "stderr",
     "output_type": "stream",
     "text": [
      "\r\n",
      "Processing:  98%|█████████████████████████████████████████████████████████████████▎ | 975/1000 [03:05<00:02,  8.86it/s]"
     ]
    },
    {
     "name": "stdout",
     "output_type": "stream",
     "text": [
      "Sample 974: Invalid features (num_cells=0)\n"
     ]
    },
    {
     "name": "stderr",
     "output_type": "stream",
     "text": [
      "Processing:  98%|█████████████████████████████████████████████████████████████████▌ | 978/1000 [03:05<00:02,  8.14it/s]"
     ]
    },
    {
     "name": "stdout",
     "output_type": "stream",
     "text": [
      "Sample 976: Invalid features (num_cells=0)\n",
      "Sample 977: Invalid features (num_cells=0)\n",
      "Sample 978: Invalid features (num_cells=0)\n"
     ]
    },
    {
     "name": "stderr",
     "output_type": "stream",
     "text": [
      "Processing:  98%|█████████████████████████████████████████████████████████████████▋ | 981/1000 [03:06<00:02,  9.00it/s]"
     ]
    },
    {
     "name": "stdout",
     "output_type": "stream",
     "text": [
      "Sample 979: Invalid features (num_cells=0)\n",
      "Sample 980: Invalid features (num_cells=0)\n"
     ]
    },
    {
     "name": "stderr",
     "output_type": "stream",
     "text": [
      "Processing:  98%|█████████████████████████████████████████████████████████████████▊ | 983/1000 [03:06<00:01,  8.95it/s]"
     ]
    },
    {
     "name": "stdout",
     "output_type": "stream",
     "text": [
      "Sample 981: Invalid features (num_cells=0)\n",
      "Sample 982: Invalid features (num_cells=0)\n",
      "Sample 983: Invalid features (num_cells=0)\n"
     ]
    },
    {
     "name": "stderr",
     "output_type": "stream",
     "text": [
      "Processing:  99%|██████████████████████████████████████████████████████████████████▏| 987/1000 [03:06<00:01,  9.57it/s]"
     ]
    },
    {
     "name": "stdout",
     "output_type": "stream",
     "text": [
      "Sample 984: Invalid features (num_cells=0)\n",
      "Sample 985: Invalid features (num_cells=0)\n",
      "Sample 986: Invalid features (num_cells=0)\n"
     ]
    },
    {
     "name": "stderr",
     "output_type": "stream",
     "text": [
      "Processing:  99%|██████████████████████████████████████████████████████████████████▎| 990/1000 [03:07<00:01,  9.93it/s]"
     ]
    },
    {
     "name": "stdout",
     "output_type": "stream",
     "text": [
      "Sample 987: Invalid features (num_cells=0)\n",
      "Sample 988: Invalid features (num_cells=0)\n",
      "Sample 989: Invalid features (num_cells=0)\n"
     ]
    },
    {
     "name": "stderr",
     "output_type": "stream",
     "text": [
      "\r\n",
      "Processing:  99%|██████████████████████████████████████████████████████████████████▍| 992/1000 [03:07<00:00, 10.31it/s]"
     ]
    },
    {
     "name": "stdout",
     "output_type": "stream",
     "text": [
      "Sample 990: Invalid features (num_cells=0)\n",
      "Sample 991: Invalid features (num_cells=0)\n",
      "Sample 992: Invalid features (num_cells=0)\n"
     ]
    },
    {
     "name": "stderr",
     "output_type": "stream",
     "text": [
      "Processing: 100%|██████████████████████████████████████████████████████████████████▋| 996/1000 [03:07<00:00,  9.91it/s]"
     ]
    },
    {
     "name": "stdout",
     "output_type": "stream",
     "text": [
      "Sample 993: Invalid features (num_cells=0)\n",
      "Sample 994: Invalid features (num_cells=0)\n",
      "Sample 995: Invalid features (num_cells=0)\n",
      "Sample 996: Invalid features (num_cells=0)\n"
     ]
    },
    {
     "name": "stderr",
     "output_type": "stream",
     "text": [
      "Processing: 100%|██████████████████████████████████████████████████████████████████| 1000/1000 [03:08<00:00,  5.30it/s]"
     ]
    },
    {
     "name": "stdout",
     "output_type": "stream",
     "text": [
      "Sample 998: Invalid features (num_cells=0)\n",
      "Sample 999: Invalid features (num_cells=0)\n"
     ]
    },
    {
     "name": "stderr",
     "output_type": "stream",
     "text": [
      "\n"
     ]
    }
   ],
   "source": [
    "df=create_dataset_1(dataset,1000)\n",
    "df.to_csv('rtldataset.csv',index=False)"
   ]
  },
  {
   "cell_type": "markdown",
   "id": "2c8412d7",
   "metadata": {},
   "source": [
    "# Dataset overview"
   ]
  },
  {
   "cell_type": "code",
   "execution_count": 37,
   "id": "7afbb1ff",
   "metadata": {},
   "outputs": [
    {
     "data": {
      "text/html": [
       "<div>\n",
       "<style scoped>\n",
       "    .dataframe tbody tr th:only-of-type {\n",
       "        vertical-align: middle;\n",
       "    }\n",
       "\n",
       "    .dataframe tbody tr th {\n",
       "        vertical-align: top;\n",
       "    }\n",
       "\n",
       "    .dataframe thead th {\n",
       "        text-align: right;\n",
       "    }\n",
       "</style>\n",
       "<table border=\"1\" class=\"dataframe\">\n",
       "  <thead>\n",
       "    <tr style=\"text-align: right;\">\n",
       "      <th></th>\n",
       "      <th>num_wires</th>\n",
       "      <th>num_cells</th>\n",
       "      <th>num_memories</th>\n",
       "      <th>has_warnings</th>\n",
       "      <th>has_errors</th>\n",
       "      <th>RTL Code</th>\n",
       "      <th>num_lines</th>\n",
       "      <th>sample_id</th>\n",
       "    </tr>\n",
       "  </thead>\n",
       "  <tbody>\n",
       "    <tr>\n",
       "      <th>0</th>\n",
       "      <td>317</td>\n",
       "      <td>434</td>\n",
       "      <td>0</td>\n",
       "      <td>True</td>\n",
       "      <td>False</td>\n",
       "      <td>module axi_protocol_converter_v2_1_b2s_simple_...</td>\n",
       "      <td>73</td>\n",
       "      <td>0</td>\n",
       "    </tr>\n",
       "    <tr>\n",
       "      <th>1</th>\n",
       "      <td>252</td>\n",
       "      <td>365</td>\n",
       "      <td>0</td>\n",
       "      <td>False</td>\n",
       "      <td>False</td>\n",
       "      <td>module altera_avalon_sc_fifo\\n#(\\n    // -----...</td>\n",
       "      <td>895</td>\n",
       "      <td>4</td>\n",
       "    </tr>\n",
       "    <tr>\n",
       "      <th>2</th>\n",
       "      <td>32</td>\n",
       "      <td>8</td>\n",
       "      <td>0</td>\n",
       "      <td>False</td>\n",
       "      <td>False</td>\n",
       "      <td>module axi_protocol_converter_v2_1_r_axi3_conv...</td>\n",
       "      <td>153</td>\n",
       "      <td>5</td>\n",
       "    </tr>\n",
       "    <tr>\n",
       "      <th>3</th>\n",
       "      <td>34</td>\n",
       "      <td>64</td>\n",
       "      <td>0</td>\n",
       "      <td>False</td>\n",
       "      <td>False</td>\n",
       "      <td>module e0 (x, y);\\n\\n\\tinput [31:0] x;\\n\\toutp...</td>\n",
       "      <td>8</td>\n",
       "      <td>6</td>\n",
       "    </tr>\n",
       "    <tr>\n",
       "      <th>4</th>\n",
       "      <td>34</td>\n",
       "      <td>64</td>\n",
       "      <td>0</td>\n",
       "      <td>False</td>\n",
       "      <td>False</td>\n",
       "      <td>module e1 (x, y);\\n\\n\\tinput [31:0] x;\\n\\toutp...</td>\n",
       "      <td>8</td>\n",
       "      <td>7</td>\n",
       "    </tr>\n",
       "  </tbody>\n",
       "</table>\n",
       "</div>"
      ],
      "text/plain": [
       "   num_wires  num_cells  num_memories  has_warnings  has_errors  \\\n",
       "0        317        434             0          True       False   \n",
       "1        252        365             0         False       False   \n",
       "2         32          8             0         False       False   \n",
       "3         34         64             0         False       False   \n",
       "4         34         64             0         False       False   \n",
       "\n",
       "                                            RTL Code  num_lines  sample_id  \n",
       "0  module axi_protocol_converter_v2_1_b2s_simple_...         73          0  \n",
       "1  module altera_avalon_sc_fifo\\n#(\\n    // -----...        895          4  \n",
       "2  module axi_protocol_converter_v2_1_r_axi3_conv...        153          5  \n",
       "3  module e0 (x, y);\\n\\n\\tinput [31:0] x;\\n\\toutp...          8          6  \n",
       "4  module e1 (x, y);\\n\\n\\tinput [31:0] x;\\n\\toutp...          8          7  "
      ]
     },
     "execution_count": 37,
     "metadata": {},
     "output_type": "execute_result"
    }
   ],
   "source": [
    "df.head()"
   ]
  },
  {
   "cell_type": "markdown",
   "id": "5becf7fe",
   "metadata": {},
   "source": [
    "Example input to test how structural synthesis is extracted"
   ]
  },
  {
   "cell_type": "code",
   "execution_count": 33,
   "id": "750fdb2e",
   "metadata": {},
   "outputs": [
    {
     "name": "stdout",
     "output_type": "stream",
     "text": [
      "{'num_wires': 18, 'num_cells': 20, 'num_memories': 0, 'has_warnings': False, 'has_errors': False, 'RTL Code': '\\nmodule adder(input [3:0] a, b, output [4:0] sum);\\n    assign sum = a + b;\\nendmodule\\n'}\n"
     ]
    }
   ],
   "source": [
    "\n",
    "rt1=\"\"\"\n",
    "module jk_flipflop(\n",
    "    input j,\n",
    "    input k,\n",
    "    input clk,\n",
    "    output q,\n",
    "    output qbar\n",
    "    );\n",
    "    reg q,qbar;\n",
    "    always @(negedge clk)\n",
    "        begin\n",
    "        case({j,k})\n",
    "        2'b00 : q <= q;\n",
    "        2'b01 : q <= 0;\n",
    "        2'b10 : q <= 1;\n",
    "        2'b11 : q <= ~q;\n",
    "        endcase\n",
    "    qbar = ~q;\n",
    "    end\n",
    "     \n",
    "endmodule\n",
    "\"\"\"\n",
    "rtl_code = \"\"\"\n",
    "module adder(input [3:0] a, b, output [4:0] sum);\n",
    "    assign sum = a + b;\n",
    "endmodule\n",
    "\"\"\"\n",
    "\n",
    "print(get_logic_depth_1(rtl_code))"
   ]
  },
  {
   "cell_type": "code",
   "execution_count": null,
   "id": "9dd5ca87",
   "metadata": {},
   "outputs": [],
   "source": []
  }
 ],
 "metadata": {
  "kernelspec": {
   "display_name": "Python 3 (ipykernel)",
   "language": "python",
   "name": "python3"
  },
  "language_info": {
   "codemirror_mode": {
    "name": "ipython",
    "version": 3
   },
   "file_extension": ".py",
   "mimetype": "text/x-python",
   "name": "python",
   "nbconvert_exporter": "python",
   "pygments_lexer": "ipython3",
   "version": "3.11.4"
  }
 },
 "nbformat": 4,
 "nbformat_minor": 5
}
